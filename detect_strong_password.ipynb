{
 "cells": [
  {
   "cell_type": "code",
   "execution_count": 4,
   "metadata": {},
   "outputs": [],
   "source": [
    "import re\n",
    "import pyperclip"
   ]
  },
  {
   "cell_type": "code",
   "execution_count": 71,
   "metadata": {},
   "outputs": [],
   "source": [
    "def detection(password):\n",
    "    flag=1\n",
    "    strong_password = re.compile(r'''\n",
    "                                        [a-zA-z\\d]{8,}\n",
    "                                ''',re.VERBOSE)\n",
    "    if(strong_password.search(password)==None):\n",
    "        print(\"Your password is too short. At least 8 length.\")\n",
    "        flag=0\n",
    "        \n",
    "    strong_password = re.compile(r'''\n",
    "                                        ^(?=.*?[a-z])\n",
    "                                ''',re.VERBOSE)\n",
    "    if(strong_password.search(password)==None):\n",
    "        print(\"You should add at least one Lowercase.\")\n",
    "        flag=0\n",
    "    \n",
    "    strong_password = re.compile(r'''\n",
    "                                    (?=.*?[A-Z])\n",
    "                                    ''',re.VERBOSE)\n",
    "    if(strong_password.search(password)==None):\n",
    "        print(\"You should add at least one Uppercase.\")\n",
    "        flag=0\n",
    "    \n",
    "    strong_password = re.compile(r'''\n",
    "                                    (?=.*?\\d)\n",
    "                                ''',re.VERBOSE)\n",
    "    if(strong_password.search(password)==None):\n",
    "        print(\"You should add at least one number.\")\n",
    "        flag=0\n",
    "        \n",
    "    if(flag):\n",
    "        print(\"Your password is strong\")"
   ]
  },
  {
   "cell_type": "code",
   "execution_count": 73,
   "metadata": {},
   "outputs": [
    {
     "name": "stdout",
     "output_type": "stream",
     "text": [
      "Your password is strong\n"
     ]
    }
   ],
   "source": [
    "detection(str(pyperclip.paste()))"
   ]
  },
  {
   "cell_type": "code",
   "execution_count": 58,
   "metadata": {},
   "outputs": [
    {
     "data": {
      "text/plain": [
       "3333"
      ]
     },
     "execution_count": 58,
     "metadata": {},
     "output_type": "execute_result"
    }
   ],
   "source": [
    "fsDD1333"
   ]
  },
  {
   "cell_type": "code",
   "execution_count": null,
   "metadata": {},
   "outputs": [],
   "source": []
  }
 ],
 "metadata": {
  "kernelspec": {
   "display_name": "Python 3",
   "language": "python",
   "name": "python3"
  },
  "language_info": {
   "codemirror_mode": {
    "name": "ipython",
    "version": 3
   },
   "file_extension": ".py",
   "mimetype": "text/x-python",
   "name": "python",
   "nbconvert_exporter": "python",
   "pygments_lexer": "ipython3",
   "version": "3.6.4"
  }
 },
 "nbformat": 4,
 "nbformat_minor": 2
}
