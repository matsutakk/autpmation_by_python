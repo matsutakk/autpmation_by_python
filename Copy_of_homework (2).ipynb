{
  "nbformat": 4,
  "nbformat_minor": 0,
  "metadata": {
    "colab": {
      "name": "Copy of homework.ipynb",
      "version": "0.3.2",
      "provenance": [],
      "collapsed_sections": []
    },
    "kernelspec": {
      "name": "python3",
      "display_name": "Python 3"
    }
  },
  "cells": [
    {
      "metadata": {
        "id": "JjLYrVJ7Vjc8",
        "colab_type": "text"
      },
      "cell_type": "markdown",
      "source": [
        "# scikit-learn付属のデータセットの読み込み（boston house-prices dataset）\n",
        "* <https://scikit-learn.org/stable/modules/generated/sklearn.datasets.load_boston.html#sklearn.datasets.load_boston>\n",
        "* 回帰問題であることに注意\n"
      ]
    },
    {
      "metadata": {
        "id": "RVAqp58FVhv6",
        "colab_type": "code",
        "colab": {}
      },
      "cell_type": "code",
      "source": [
        "import numpy as np\n",
        "import sklearn\n",
        "from sklearn.datasets import load_boston\n",
        "boston_data = sklearn.datasets.load_boston()"
      ],
      "execution_count": 0,
      "outputs": []
    },
    {
      "metadata": {
        "id": "OmaLaPFzVq8N",
        "colab_type": "code",
        "colab": {}
      },
      "cell_type": "code",
      "source": [
        "# データセットを学習用とテスト用に分ける\n",
        "N = len(boston_data.data)\n",
        "index = np.arange(N)\n",
        "np.random.seed(2019)\n",
        "np.random.shuffle(index)\n",
        "\n",
        "# 訓練データ（8割を訓練データに）\n",
        "X_train, t_train = boston_data.data[index[:int(0.8*N)]], boston_data.target[index[:int(0.8*N)]]\n",
        "# テスト用データ（残りの2割）\n",
        "X_test, t_test = boston_data.data[index[int(0.8*N):]], boston_data.target[index[int(0.8*N):]]"
      ],
      "execution_count": 0,
      "outputs": []
    },
    {
      "metadata": {
        "id": "JqmFAGpjCbAr",
        "colab_type": "code",
        "outputId": "22525698-df9f-4003-84c2-362f73aad430",
        "colab": {
          "base_uri": "https://localhost:8080/",
          "height": 1108
        }
      },
      "cell_type": "code",
      "source": [
        "boston_data"
      ],
      "execution_count": 340,
      "outputs": [
        {
          "output_type": "execute_result",
          "data": {
            "text/plain": [
              "{'DESCR': \".. _boston_dataset:\\n\\nBoston house prices dataset\\n---------------------------\\n\\n**Data Set Characteristics:**  \\n\\n    :Number of Instances: 506 \\n\\n    :Number of Attributes: 13 numeric/categorical predictive. Median Value (attribute 14) is usually the target.\\n\\n    :Attribute Information (in order):\\n        - CRIM     per capita crime rate by town\\n        - ZN       proportion of residential land zoned for lots over 25,000 sq.ft.\\n        - INDUS    proportion of non-retail business acres per town\\n        - CHAS     Charles River dummy variable (= 1 if tract bounds river; 0 otherwise)\\n        - NOX      nitric oxides concentration (parts per 10 million)\\n        - RM       average number of rooms per dwelling\\n        - AGE      proportion of owner-occupied units built prior to 1940\\n        - DIS      weighted distances to five Boston employment centres\\n        - RAD      index of accessibility to radial highways\\n        - TAX      full-value property-tax rate per $10,000\\n        - PTRATIO  pupil-teacher ratio by town\\n        - B        1000(Bk - 0.63)^2 where Bk is the proportion of blacks by town\\n        - LSTAT    % lower status of the population\\n        - MEDV     Median value of owner-occupied homes in $1000's\\n\\n    :Missing Attribute Values: None\\n\\n    :Creator: Harrison, D. and Rubinfeld, D.L.\\n\\nThis is a copy of UCI ML housing dataset.\\nhttps://archive.ics.uci.edu/ml/machine-learning-databases/housing/\\n\\n\\nThis dataset was taken from the StatLib library which is maintained at Carnegie Mellon University.\\n\\nThe Boston house-price data of Harrison, D. and Rubinfeld, D.L. 'Hedonic\\nprices and the demand for clean air', J. Environ. Economics & Management,\\nvol.5, 81-102, 1978.   Used in Belsley, Kuh & Welsch, 'Regression diagnostics\\n...', Wiley, 1980.   N.B. Various transformations are used in the table on\\npages 244-261 of the latter.\\n\\nThe Boston house-price data has been used in many machine learning papers that address regression\\nproblems.   \\n     \\n.. topic:: References\\n\\n   - Belsley, Kuh & Welsch, 'Regression diagnostics: Identifying Influential Data and Sources of Collinearity', Wiley, 1980. 244-261.\\n   - Quinlan,R. (1993). Combining Instance-Based and Model-Based Learning. In Proceedings on the Tenth International Conference of Machine Learning, 236-243, University of Massachusetts, Amherst. Morgan Kaufmann.\\n\",\n",
              " 'data': array([[6.3200e-03, 1.8000e+01, 2.3100e+00, ..., 1.5300e+01, 3.9690e+02,\n",
              "         4.9800e+00],\n",
              "        [2.7310e-02, 0.0000e+00, 7.0700e+00, ..., 1.7800e+01, 3.9690e+02,\n",
              "         9.1400e+00],\n",
              "        [2.7290e-02, 0.0000e+00, 7.0700e+00, ..., 1.7800e+01, 3.9283e+02,\n",
              "         4.0300e+00],\n",
              "        ...,\n",
              "        [6.0760e-02, 0.0000e+00, 1.1930e+01, ..., 2.1000e+01, 3.9690e+02,\n",
              "         5.6400e+00],\n",
              "        [1.0959e-01, 0.0000e+00, 1.1930e+01, ..., 2.1000e+01, 3.9345e+02,\n",
              "         6.4800e+00],\n",
              "        [4.7410e-02, 0.0000e+00, 1.1930e+01, ..., 2.1000e+01, 3.9690e+02,\n",
              "         7.8800e+00]]),\n",
              " 'feature_names': array(['CRIM', 'ZN', 'INDUS', 'CHAS', 'NOX', 'RM', 'AGE', 'DIS', 'RAD',\n",
              "        'TAX', 'PTRATIO', 'B', 'LSTAT'], dtype='<U7'),\n",
              " 'filename': '/usr/local/lib/python3.6/dist-packages/sklearn/datasets/data/boston_house_prices.csv',\n",
              " 'target': array([24. , 21.6, 34.7, 33.4, 36.2, 28.7, 22.9, 27.1, 16.5, 18.9, 15. ,\n",
              "        18.9, 21.7, 20.4, 18.2, 19.9, 23.1, 17.5, 20.2, 18.2, 13.6, 19.6,\n",
              "        15.2, 14.5, 15.6, 13.9, 16.6, 14.8, 18.4, 21. , 12.7, 14.5, 13.2,\n",
              "        13.1, 13.5, 18.9, 20. , 21. , 24.7, 30.8, 34.9, 26.6, 25.3, 24.7,\n",
              "        21.2, 19.3, 20. , 16.6, 14.4, 19.4, 19.7, 20.5, 25. , 23.4, 18.9,\n",
              "        35.4, 24.7, 31.6, 23.3, 19.6, 18.7, 16. , 22.2, 25. , 33. , 23.5,\n",
              "        19.4, 22. , 17.4, 20.9, 24.2, 21.7, 22.8, 23.4, 24.1, 21.4, 20. ,\n",
              "        20.8, 21.2, 20.3, 28. , 23.9, 24.8, 22.9, 23.9, 26.6, 22.5, 22.2,\n",
              "        23.6, 28.7, 22.6, 22. , 22.9, 25. , 20.6, 28.4, 21.4, 38.7, 43.8,\n",
              "        33.2, 27.5, 26.5, 18.6, 19.3, 20.1, 19.5, 19.5, 20.4, 19.8, 19.4,\n",
              "        21.7, 22.8, 18.8, 18.7, 18.5, 18.3, 21.2, 19.2, 20.4, 19.3, 22. ,\n",
              "        20.3, 20.5, 17.3, 18.8, 21.4, 15.7, 16.2, 18. , 14.3, 19.2, 19.6,\n",
              "        23. , 18.4, 15.6, 18.1, 17.4, 17.1, 13.3, 17.8, 14. , 14.4, 13.4,\n",
              "        15.6, 11.8, 13.8, 15.6, 14.6, 17.8, 15.4, 21.5, 19.6, 15.3, 19.4,\n",
              "        17. , 15.6, 13.1, 41.3, 24.3, 23.3, 27. , 50. , 50. , 50. , 22.7,\n",
              "        25. , 50. , 23.8, 23.8, 22.3, 17.4, 19.1, 23.1, 23.6, 22.6, 29.4,\n",
              "        23.2, 24.6, 29.9, 37.2, 39.8, 36.2, 37.9, 32.5, 26.4, 29.6, 50. ,\n",
              "        32. , 29.8, 34.9, 37. , 30.5, 36.4, 31.1, 29.1, 50. , 33.3, 30.3,\n",
              "        34.6, 34.9, 32.9, 24.1, 42.3, 48.5, 50. , 22.6, 24.4, 22.5, 24.4,\n",
              "        20. , 21.7, 19.3, 22.4, 28.1, 23.7, 25. , 23.3, 28.7, 21.5, 23. ,\n",
              "        26.7, 21.7, 27.5, 30.1, 44.8, 50. , 37.6, 31.6, 46.7, 31.5, 24.3,\n",
              "        31.7, 41.7, 48.3, 29. , 24. , 25.1, 31.5, 23.7, 23.3, 22. , 20.1,\n",
              "        22.2, 23.7, 17.6, 18.5, 24.3, 20.5, 24.5, 26.2, 24.4, 24.8, 29.6,\n",
              "        42.8, 21.9, 20.9, 44. , 50. , 36. , 30.1, 33.8, 43.1, 48.8, 31. ,\n",
              "        36.5, 22.8, 30.7, 50. , 43.5, 20.7, 21.1, 25.2, 24.4, 35.2, 32.4,\n",
              "        32. , 33.2, 33.1, 29.1, 35.1, 45.4, 35.4, 46. , 50. , 32.2, 22. ,\n",
              "        20.1, 23.2, 22.3, 24.8, 28.5, 37.3, 27.9, 23.9, 21.7, 28.6, 27.1,\n",
              "        20.3, 22.5, 29. , 24.8, 22. , 26.4, 33.1, 36.1, 28.4, 33.4, 28.2,\n",
              "        22.8, 20.3, 16.1, 22.1, 19.4, 21.6, 23.8, 16.2, 17.8, 19.8, 23.1,\n",
              "        21. , 23.8, 23.1, 20.4, 18.5, 25. , 24.6, 23. , 22.2, 19.3, 22.6,\n",
              "        19.8, 17.1, 19.4, 22.2, 20.7, 21.1, 19.5, 18.5, 20.6, 19. , 18.7,\n",
              "        32.7, 16.5, 23.9, 31.2, 17.5, 17.2, 23.1, 24.5, 26.6, 22.9, 24.1,\n",
              "        18.6, 30.1, 18.2, 20.6, 17.8, 21.7, 22.7, 22.6, 25. , 19.9, 20.8,\n",
              "        16.8, 21.9, 27.5, 21.9, 23.1, 50. , 50. , 50. , 50. , 50. , 13.8,\n",
              "        13.8, 15. , 13.9, 13.3, 13.1, 10.2, 10.4, 10.9, 11.3, 12.3,  8.8,\n",
              "         7.2, 10.5,  7.4, 10.2, 11.5, 15.1, 23.2,  9.7, 13.8, 12.7, 13.1,\n",
              "        12.5,  8.5,  5. ,  6.3,  5.6,  7.2, 12.1,  8.3,  8.5,  5. , 11.9,\n",
              "        27.9, 17.2, 27.5, 15. , 17.2, 17.9, 16.3,  7. ,  7.2,  7.5, 10.4,\n",
              "         8.8,  8.4, 16.7, 14.2, 20.8, 13.4, 11.7,  8.3, 10.2, 10.9, 11. ,\n",
              "         9.5, 14.5, 14.1, 16.1, 14.3, 11.7, 13.4,  9.6,  8.7,  8.4, 12.8,\n",
              "        10.5, 17.1, 18.4, 15.4, 10.8, 11.8, 14.9, 12.6, 14.1, 13. , 13.4,\n",
              "        15.2, 16.1, 17.8, 14.9, 14.1, 12.7, 13.5, 14.9, 20. , 16.4, 17.7,\n",
              "        19.5, 20.2, 21.4, 19.9, 19. , 19.1, 19.1, 20.1, 19.9, 19.6, 23.2,\n",
              "        29.8, 13.8, 13.3, 16.7, 12. , 14.6, 21.4, 23. , 23.7, 25. , 21.8,\n",
              "        20.6, 21.2, 19.1, 20.6, 15.2,  7. ,  8.1, 13.6, 20.1, 21.8, 24.5,\n",
              "        23.1, 19.7, 18.3, 21.2, 17.5, 16.8, 22.4, 20.6, 23.9, 22. , 11.9])}"
            ]
          },
          "metadata": {
            "tags": []
          },
          "execution_count": 340
        }
      ]
    },
    {
      "metadata": {
        "id": "wpWYhVxiawCq",
        "colab_type": "text"
      },
      "cell_type": "markdown",
      "source": [
        "* 精度の評価には例えば平均二乗誤差を使いましょう\n",
        "```\n",
        "# 使用例\n",
        "from sklearn.metrics import mean_squared_error\n",
        "mean_squared_error(predict, t_test)\n",
        "```"
      ]
    },
    {
      "metadata": {
        "id": "MSefcB8pWeEL",
        "colab_type": "text"
      },
      "cell_type": "markdown",
      "source": [
        "# 宿題\n",
        "* boston house-prices datasetに対して機械学習アルゴリズムを適用してください\n",
        "* アルゴリズムは何でも良いですが，できるだけ予測精度が高くなるように頑張ってみましょう\n",
        "* 工夫した点，難しかった点，その他授業の感想・要望などをコメントとして記入するようにしてください\n",
        "* 授業支援システムから拡張子 `.ipynb` 形式のファイルを提出してください\n",
        "    * Colaboratoryでプログラムを作成後に，上のメニューの「ファイル」から「.ipynbをダウンロード」を選択することで保存できます\n",
        "* 締切：2019年1月21日（月）17:00"
      ]
    },
    {
      "metadata": {
        "id": "10SbT8BUbpz_",
        "colab_type": "code",
        "colab": {}
      },
      "cell_type": "code",
      "source": [
        "from sklearn.metrics import mean_squared_error #平均二乗誤差で精度の評価を行う"
      ],
      "execution_count": 0,
      "outputs": []
    },
    {
      "metadata": {
        "id": "MBmY6K0N1YsO",
        "colab_type": "text"
      },
      "cell_type": "markdown",
      "source": [
        "##**決定木を適用**"
      ]
    },
    {
      "metadata": {
        "id": "IY66klD2atW-",
        "colab_type": "code",
        "colab": {}
      },
      "cell_type": "code",
      "source": [
        "from sklearn import tree"
      ],
      "execution_count": 0,
      "outputs": []
    },
    {
      "metadata": {
        "id": "jorUsuDqDo3T",
        "colab_type": "code",
        "colab": {}
      },
      "cell_type": "code",
      "source": [
        "clf = tree.DecisionTreeRegressor()"
      ],
      "execution_count": 0,
      "outputs": []
    },
    {
      "metadata": {
        "id": "Y6CyXulqWhT1",
        "colab_type": "code",
        "outputId": "005f54cd-4a45-4781-8226-4f7074290882",
        "colab": {
          "base_uri": "https://localhost:8080/",
          "height": 102
        }
      },
      "cell_type": "code",
      "source": [
        "clf.fit(X_train[:,[0,1,2,3,4,5,7,8,10,12]],t_train)"
      ],
      "execution_count": 344,
      "outputs": [
        {
          "output_type": "execute_result",
          "data": {
            "text/plain": [
              "DecisionTreeRegressor(criterion='mse', max_depth=None, max_features=None,\n",
              "           max_leaf_nodes=None, min_impurity_decrease=0.0,\n",
              "           min_impurity_split=None, min_samples_leaf=1,\n",
              "           min_samples_split=2, min_weight_fraction_leaf=0.0,\n",
              "           presort=False, random_state=None, splitter='best')"
            ]
          },
          "metadata": {
            "tags": []
          },
          "execution_count": 344
        }
      ]
    },
    {
      "metadata": {
        "id": "oYQgpdHwFQcS",
        "colab_type": "code",
        "colab": {}
      },
      "cell_type": "code",
      "source": [
        "predict=clf.predict(X_test[:,[0,1,2,3,4,5,7,8,10,12]])"
      ],
      "execution_count": 0,
      "outputs": []
    },
    {
      "metadata": {
        "id": "CsOxZfaTE6YG",
        "colab_type": "code",
        "outputId": "b934f963-90cf-41e3-8094-78c8859a1c28",
        "colab": {
          "base_uri": "https://localhost:8080/",
          "height": 34
        }
      },
      "cell_type": "code",
      "source": [
        "mean_squared_error(predict,t_test)"
      ],
      "execution_count": 346,
      "outputs": [
        {
          "output_type": "execute_result",
          "data": {
            "text/plain": [
              "22.670588235294115"
            ]
          },
          "metadata": {
            "tags": []
          },
          "execution_count": 346
        }
      ]
    },
    {
      "metadata": {
        "id": "HK0dnIBq2F3d",
        "colab_type": "text"
      },
      "cell_type": "markdown",
      "source": [
        "## 線形回帰を適用"
      ]
    },
    {
      "metadata": {
        "id": "3WkliGyUGr_5",
        "colab_type": "code",
        "colab": {}
      },
      "cell_type": "code",
      "source": [
        "from sklearn.linear_model import LinearRegression"
      ],
      "execution_count": 0,
      "outputs": []
    },
    {
      "metadata": {
        "id": "Ffnv0movHAJR",
        "colab_type": "code",
        "colab": {}
      },
      "cell_type": "code",
      "source": [
        "mod = LinearRegression()"
      ],
      "execution_count": 0,
      "outputs": []
    },
    {
      "metadata": {
        "id": "w3TzIJhXwueV",
        "colab_type": "code",
        "outputId": "40f02307-e1ba-461c-d5a6-98620142cf72",
        "colab": {
          "base_uri": "https://localhost:8080/",
          "height": 51
        }
      },
      "cell_type": "code",
      "source": [
        "mod.fit(X_train[:,[0,1,2,3,4,5,7,8,10,12]],t_train)"
      ],
      "execution_count": 349,
      "outputs": [
        {
          "output_type": "execute_result",
          "data": {
            "text/plain": [
              "LinearRegression(copy_X=True, fit_intercept=True, n_jobs=None,\n",
              "         normalize=False)"
            ]
          },
          "metadata": {
            "tags": []
          },
          "execution_count": 349
        }
      ]
    },
    {
      "metadata": {
        "id": "KIpKuC9awzJu",
        "colab_type": "code",
        "colab": {}
      },
      "cell_type": "code",
      "source": [
        "predict = mod.predict(X_test[:,[0,1,2,3,4,5,7,8,10,12]])"
      ],
      "execution_count": 0,
      "outputs": []
    },
    {
      "metadata": {
        "id": "oqQvbubVw56d",
        "colab_type": "code",
        "outputId": "37354f0c-dda9-4016-993b-a43c8b914d14",
        "colab": {
          "base_uri": "https://localhost:8080/",
          "height": 34
        }
      },
      "cell_type": "code",
      "source": [
        "mean_squared_error(predict,t_test)"
      ],
      "execution_count": 351,
      "outputs": [
        {
          "output_type": "execute_result",
          "data": {
            "text/plain": [
              "29.33843845236556"
            ]
          },
          "metadata": {
            "tags": []
          },
          "execution_count": 351
        }
      ]
    },
    {
      "metadata": {
        "id": "8OzO8sMc2VNP",
        "colab_type": "text"
      },
      "cell_type": "markdown",
      "source": [
        "## リッジ回帰を適用"
      ]
    },
    {
      "metadata": {
        "id": "uFTnwc68yLJ6",
        "colab_type": "code",
        "colab": {}
      },
      "cell_type": "code",
      "source": [
        "from  sklearn.linear_model import Ridge"
      ],
      "execution_count": 0,
      "outputs": []
    },
    {
      "metadata": {
        "id": "Wnxe-jtx0iME",
        "colab_type": "code",
        "outputId": "9ddba3a2-22be-421d-fbe5-78a0bbfbe624",
        "colab": {
          "base_uri": "https://localhost:8080/",
          "height": 51
        }
      },
      "cell_type": "code",
      "source": [
        "model = Ridge(alpha=0.5)\n",
        "model.fit(X_train[:,[0,1,2,3,4,5,7,8,10,12]],t_train)"
      ],
      "execution_count": 357,
      "outputs": [
        {
          "output_type": "execute_result",
          "data": {
            "text/plain": [
              "Ridge(alpha=0.5, copy_X=True, fit_intercept=True, max_iter=None,\n",
              "   normalize=False, random_state=None, solver='auto', tol=0.001)"
            ]
          },
          "metadata": {
            "tags": []
          },
          "execution_count": 357
        }
      ]
    },
    {
      "metadata": {
        "id": "6I8N5N6N0oun",
        "colab_type": "code",
        "outputId": "18c7d8aa-4492-4987-e809-0613dfc10c7b",
        "colab": {
          "base_uri": "https://localhost:8080/",
          "height": 34
        }
      },
      "cell_type": "code",
      "source": [
        "predict = model.predict(X_test[:,[0,1,2,3,4,5,7,8,10,12]])\n",
        "mean_squared_error(predict,t_test)"
      ],
      "execution_count": 358,
      "outputs": [
        {
          "output_type": "execute_result",
          "data": {
            "text/plain": [
              "29.42872910578712"
            ]
          },
          "metadata": {
            "tags": []
          },
          "execution_count": 358
        }
      ]
    },
    {
      "metadata": {
        "id": "SxuAyQ1n2bIY",
        "colab_type": "code",
        "outputId": "342ce010-5286-45cc-a28b-999ee150c480",
        "colab": {
          "base_uri": "https://localhost:8080/",
          "height": 51
        }
      },
      "cell_type": "code",
      "source": [
        "model"
      ],
      "execution_count": 359,
      "outputs": [
        {
          "output_type": "execute_result",
          "data": {
            "text/plain": [
              "Ridge(alpha=0.5, copy_X=True, fit_intercept=True, max_iter=None,\n",
              "   normalize=False, random_state=None, solver='auto', tol=0.001)"
            ]
          },
          "metadata": {
            "tags": []
          },
          "execution_count": 359
        }
      ]
    },
    {
      "metadata": {
        "id": "HQi1wL0Q5tCT",
        "colab_type": "text"
      },
      "cell_type": "markdown",
      "source": [
        "## ラッソ"
      ]
    },
    {
      "metadata": {
        "id": "G0SiIeJo5shT",
        "colab_type": "code",
        "colab": {}
      },
      "cell_type": "code",
      "source": [
        "from sklearn.linear_model import Lasso"
      ],
      "execution_count": 0,
      "outputs": []
    },
    {
      "metadata": {
        "id": "aKaVGkLK6H0G",
        "colab_type": "code",
        "colab": {}
      },
      "cell_type": "code",
      "source": [
        "lasso = Lasso(alpha=0.5).fit(X_train[:,[0,1,2,3,4,5,7,8,10,12]],t_train)"
      ],
      "execution_count": 0,
      "outputs": []
    },
    {
      "metadata": {
        "id": "WFRY7SJs6RPp",
        "colab_type": "code",
        "outputId": "1cb9fb07-a85a-4c82-fd5e-c99116006749",
        "colab": {
          "base_uri": "https://localhost:8080/",
          "height": 34
        }
      },
      "cell_type": "code",
      "source": [
        "predict = lasso.predict(X_test[:,[0,1,2,3,4,5,7,8,10,12]])\n",
        "mean_squared_error(predict,t_test)"
      ],
      "execution_count": 371,
      "outputs": [
        {
          "output_type": "execute_result",
          "data": {
            "text/plain": [
              "31.9699656432128"
            ]
          },
          "metadata": {
            "tags": []
          },
          "execution_count": 371
        }
      ]
    },
    {
      "metadata": {
        "id": "21jsfBXq-D3w",
        "colab_type": "text"
      },
      "cell_type": "markdown",
      "source": [
        "## ニューラルネット CNN"
      ]
    },
    {
      "metadata": {
        "id": "QmbAkrt4-DUN",
        "colab_type": "code",
        "colab": {}
      },
      "cell_type": "code",
      "source": [
        "from keras.models import Sequential\n",
        "from keras.layers import Activation,Dropout,Flatten,Dense\n",
        "from keras.optimizers import Adam"
      ],
      "execution_count": 0,
      "outputs": []
    },
    {
      "metadata": {
        "id": "3U42tEMt-U4X",
        "colab_type": "code",
        "colab": {}
      },
      "cell_type": "code",
      "source": [
        "model = Sequential()\n",
        "model.add(Dense(10,input_dim=10,activation='relu'))\n",
        "model.add(Dense(256,activation='relu'))\n",
        "model.add(Dropout(0,5))\n",
        "model.add(Dense(256,activation='relu'))\n",
        "model.add(Dropout(0.5))\n",
        "model.add(Dense(10,activation='relu'))\n",
        "model.add(Dense(1,activation='relu'))\n",
        "model.compile(loss='mean_squared_error',optimizer=Adam(),metrics=['accuracy'])"
      ],
      "execution_count": 0,
      "outputs": []
    },
    {
      "metadata": {
        "id": "UNpQKIqt_pYG",
        "colab_type": "code",
        "outputId": "9b1c4a5f-dc0a-4e4c-971c-768ef171fc51",
        "colab": {
          "base_uri": "https://localhost:8080/",
          "height": 10234
        }
      },
      "cell_type": "code",
      "source": [
        "cnn = model.fit(X_train[:,[0,1,2,3,4,5,7,8,10,12]],t_train, epochs=300, validation_data=(X_test[:,[0,1,2,3,4,5,7,8,10,12]],t_test))"
      ],
      "execution_count": 366,
      "outputs": [
        {
          "output_type": "stream",
          "text": [
            "Train on 404 samples, validate on 102 samples\n",
            "Epoch 1/300\n",
            "404/404 [==============================] - 1s 2ms/step - loss: 359.8856 - acc: 0.0025 - val_loss: 252.9307 - val_acc: 0.0000e+00\n",
            "Epoch 2/300\n",
            "404/404 [==============================] - 0s 114us/step - loss: 223.6130 - acc: 0.0000e+00 - val_loss: 179.9331 - val_acc: 0.0098\n",
            "Epoch 3/300\n",
            "404/404 [==============================] - 0s 116us/step - loss: 120.7444 - acc: 0.0000e+00 - val_loss: 86.0290 - val_acc: 0.0098\n",
            "Epoch 4/300\n",
            "404/404 [==============================] - 0s 124us/step - loss: 78.5289 - acc: 0.0050 - val_loss: 94.1597 - val_acc: 0.0098\n",
            "Epoch 5/300\n",
            "404/404 [==============================] - 0s 113us/step - loss: 72.8500 - acc: 0.0173 - val_loss: 76.5147 - val_acc: 0.0098\n",
            "Epoch 6/300\n",
            "404/404 [==============================] - 0s 125us/step - loss: 67.1639 - acc: 0.0124 - val_loss: 78.1935 - val_acc: 0.0196\n",
            "Epoch 7/300\n",
            "404/404 [==============================] - 0s 114us/step - loss: 62.4590 - acc: 0.0000e+00 - val_loss: 69.8963 - val_acc: 0.0000e+00\n",
            "Epoch 8/300\n",
            "404/404 [==============================] - 0s 128us/step - loss: 60.5543 - acc: 0.0074 - val_loss: 67.9868 - val_acc: 0.0196\n",
            "Epoch 9/300\n",
            "404/404 [==============================] - 0s 116us/step - loss: 62.9338 - acc: 0.0025 - val_loss: 65.1992 - val_acc: 0.0000e+00\n",
            "Epoch 10/300\n",
            "404/404 [==============================] - 0s 121us/step - loss: 58.4218 - acc: 0.0050 - val_loss: 68.8888 - val_acc: 0.0196\n",
            "Epoch 11/300\n",
            "404/404 [==============================] - 0s 126us/step - loss: 52.5650 - acc: 0.0124 - val_loss: 60.7012 - val_acc: 0.0098\n",
            "Epoch 12/300\n",
            "404/404 [==============================] - 0s 110us/step - loss: 53.4260 - acc: 0.0050 - val_loss: 61.0117 - val_acc: 0.0098\n",
            "Epoch 13/300\n",
            "404/404 [==============================] - 0s 125us/step - loss: 52.5914 - acc: 0.0074 - val_loss: 65.3619 - val_acc: 0.0196\n",
            "Epoch 14/300\n",
            "404/404 [==============================] - 0s 119us/step - loss: 49.5040 - acc: 0.0025 - val_loss: 63.2993 - val_acc: 0.0098\n",
            "Epoch 15/300\n",
            "404/404 [==============================] - 0s 127us/step - loss: 50.4827 - acc: 0.0099 - val_loss: 53.8246 - val_acc: 0.0000e+00\n",
            "Epoch 16/300\n",
            "404/404 [==============================] - 0s 113us/step - loss: 51.9980 - acc: 0.0074 - val_loss: 59.2823 - val_acc: 0.0000e+00\n",
            "Epoch 17/300\n",
            "404/404 [==============================] - 0s 100us/step - loss: 51.6947 - acc: 0.0074 - val_loss: 56.3993 - val_acc: 0.0098\n",
            "Epoch 18/300\n",
            "404/404 [==============================] - 0s 122us/step - loss: 44.5634 - acc: 0.0074 - val_loss: 59.1689 - val_acc: 0.0000e+00\n",
            "Epoch 19/300\n",
            "404/404 [==============================] - 0s 107us/step - loss: 46.7862 - acc: 0.0050 - val_loss: 50.0815 - val_acc: 0.0294\n",
            "Epoch 20/300\n",
            "404/404 [==============================] - 0s 103us/step - loss: 47.3286 - acc: 0.0099 - val_loss: 53.5395 - val_acc: 0.0196\n",
            "Epoch 21/300\n",
            "404/404 [==============================] - 0s 110us/step - loss: 48.9497 - acc: 0.0074 - val_loss: 49.5913 - val_acc: 0.0098\n",
            "Epoch 22/300\n",
            "404/404 [==============================] - 0s 108us/step - loss: 49.9490 - acc: 0.0099 - val_loss: 46.1973 - val_acc: 0.0000e+00\n",
            "Epoch 23/300\n",
            "404/404 [==============================] - 0s 117us/step - loss: 42.2853 - acc: 0.0099 - val_loss: 51.1682 - val_acc: 0.0000e+00\n",
            "Epoch 24/300\n",
            "404/404 [==============================] - 0s 112us/step - loss: 39.7619 - acc: 0.0074 - val_loss: 46.1245 - val_acc: 0.0098\n",
            "Epoch 25/300\n",
            "404/404 [==============================] - 0s 111us/step - loss: 39.5200 - acc: 0.0099 - val_loss: 46.1991 - val_acc: 0.0000e+00\n",
            "Epoch 26/300\n",
            "404/404 [==============================] - 0s 107us/step - loss: 42.1315 - acc: 0.0099 - val_loss: 41.6350 - val_acc: 0.0000e+00\n",
            "Epoch 27/300\n",
            "404/404 [==============================] - 0s 118us/step - loss: 34.8730 - acc: 0.0050 - val_loss: 44.3983 - val_acc: 0.0098\n",
            "Epoch 28/300\n",
            "404/404 [==============================] - 0s 103us/step - loss: 38.5024 - acc: 0.0074 - val_loss: 41.1536 - val_acc: 0.0294\n",
            "Epoch 29/300\n",
            "404/404 [==============================] - 0s 109us/step - loss: 38.0673 - acc: 0.0173 - val_loss: 39.1613 - val_acc: 0.0196\n",
            "Epoch 30/300\n",
            "404/404 [==============================] - 0s 97us/step - loss: 38.6516 - acc: 0.0124 - val_loss: 39.4143 - val_acc: 0.0196\n",
            "Epoch 31/300\n",
            "404/404 [==============================] - 0s 104us/step - loss: 32.8783 - acc: 0.0149 - val_loss: 39.2545 - val_acc: 0.0000e+00\n",
            "Epoch 32/300\n",
            "404/404 [==============================] - 0s 107us/step - loss: 37.4367 - acc: 0.0124 - val_loss: 41.1151 - val_acc: 0.0000e+00\n",
            "Epoch 33/300\n",
            "404/404 [==============================] - 0s 107us/step - loss: 31.6286 - acc: 0.0248 - val_loss: 38.8926 - val_acc: 0.0000e+00\n",
            "Epoch 34/300\n",
            "404/404 [==============================] - 0s 109us/step - loss: 38.4745 - acc: 0.0149 - val_loss: 36.1052 - val_acc: 0.0098\n",
            "Epoch 35/300\n",
            "404/404 [==============================] - 0s 113us/step - loss: 36.6437 - acc: 0.0099 - val_loss: 39.0562 - val_acc: 0.0000e+00\n",
            "Epoch 36/300\n",
            "404/404 [==============================] - 0s 109us/step - loss: 35.2679 - acc: 0.0124 - val_loss: 33.0918 - val_acc: 0.0098\n",
            "Epoch 37/300\n",
            "404/404 [==============================] - 0s 104us/step - loss: 35.3946 - acc: 0.0124 - val_loss: 38.9171 - val_acc: 0.0000e+00\n",
            "Epoch 38/300\n",
            "404/404 [==============================] - 0s 103us/step - loss: 34.1561 - acc: 0.0124 - val_loss: 35.8069 - val_acc: 0.0098\n",
            "Epoch 39/300\n",
            "404/404 [==============================] - 0s 98us/step - loss: 34.7068 - acc: 0.0099 - val_loss: 32.0036 - val_acc: 0.0196\n",
            "Epoch 40/300\n",
            "404/404 [==============================] - 0s 108us/step - loss: 30.0340 - acc: 0.0124 - val_loss: 33.0474 - val_acc: 0.0196\n",
            "Epoch 41/300\n",
            "404/404 [==============================] - 0s 108us/step - loss: 31.6428 - acc: 0.0149 - val_loss: 39.5927 - val_acc: 0.0098\n",
            "Epoch 42/300\n",
            "404/404 [==============================] - 0s 103us/step - loss: 32.1782 - acc: 0.0074 - val_loss: 33.9545 - val_acc: 0.0098\n",
            "Epoch 43/300\n",
            "404/404 [==============================] - 0s 105us/step - loss: 29.2332 - acc: 0.0149 - val_loss: 38.2234 - val_acc: 0.0098\n",
            "Epoch 44/300\n",
            "404/404 [==============================] - 0s 107us/step - loss: 29.2646 - acc: 0.0025 - val_loss: 32.3427 - val_acc: 0.0000e+00\n",
            "Epoch 45/300\n",
            "404/404 [==============================] - 0s 116us/step - loss: 29.5694 - acc: 0.0074 - val_loss: 31.3354 - val_acc: 0.0098\n",
            "Epoch 46/300\n",
            "404/404 [==============================] - 0s 102us/step - loss: 30.2852 - acc: 0.0025 - val_loss: 31.8842 - val_acc: 0.0098\n",
            "Epoch 47/300\n",
            "404/404 [==============================] - 0s 105us/step - loss: 26.6347 - acc: 0.0149 - val_loss: 33.8408 - val_acc: 0.0098\n",
            "Epoch 48/300\n",
            "404/404 [==============================] - 0s 105us/step - loss: 29.5252 - acc: 0.0099 - val_loss: 28.3585 - val_acc: 0.0098\n",
            "Epoch 49/300\n",
            "404/404 [==============================] - 0s 104us/step - loss: 29.4624 - acc: 0.0173 - val_loss: 25.1619 - val_acc: 0.0196\n",
            "Epoch 50/300\n",
            "404/404 [==============================] - 0s 109us/step - loss: 29.8336 - acc: 0.0074 - val_loss: 27.4326 - val_acc: 0.0000e+00\n",
            "Epoch 51/300\n",
            "404/404 [==============================] - 0s 104us/step - loss: 29.0172 - acc: 0.0124 - val_loss: 24.4061 - val_acc: 0.0196\n",
            "Epoch 52/300\n",
            "404/404 [==============================] - 0s 106us/step - loss: 25.0740 - acc: 0.0149 - val_loss: 29.9640 - val_acc: 0.0196\n",
            "Epoch 53/300\n",
            "404/404 [==============================] - 0s 109us/step - loss: 24.7030 - acc: 0.0124 - val_loss: 23.8570 - val_acc: 0.0098\n",
            "Epoch 54/300\n",
            "404/404 [==============================] - 0s 110us/step - loss: 23.5080 - acc: 0.0124 - val_loss: 22.8367 - val_acc: 0.0294\n",
            "Epoch 55/300\n",
            "404/404 [==============================] - 0s 112us/step - loss: 21.8240 - acc: 0.0074 - val_loss: 22.2995 - val_acc: 0.0098\n",
            "Epoch 56/300\n",
            "404/404 [==============================] - 0s 108us/step - loss: 23.9938 - acc: 0.0149 - val_loss: 26.0490 - val_acc: 0.0294\n",
            "Epoch 57/300\n",
            "404/404 [==============================] - 0s 108us/step - loss: 24.1823 - acc: 0.0074 - val_loss: 25.3066 - val_acc: 0.0098\n",
            "Epoch 58/300\n",
            "404/404 [==============================] - 0s 112us/step - loss: 22.4688 - acc: 0.0099 - val_loss: 23.9974 - val_acc: 0.0098\n",
            "Epoch 59/300\n",
            "404/404 [==============================] - 0s 106us/step - loss: 22.8083 - acc: 0.0099 - val_loss: 24.3859 - val_acc: 0.0196\n",
            "Epoch 60/300\n",
            "404/404 [==============================] - 0s 118us/step - loss: 20.9865 - acc: 0.0099 - val_loss: 19.8440 - val_acc: 0.0294\n",
            "Epoch 61/300\n",
            "404/404 [==============================] - 0s 112us/step - loss: 22.6136 - acc: 0.0050 - val_loss: 20.7945 - val_acc: 0.0098\n",
            "Epoch 62/300\n",
            "404/404 [==============================] - 0s 100us/step - loss: 21.5185 - acc: 0.0124 - val_loss: 22.7563 - val_acc: 0.0000e+00\n",
            "Epoch 63/300\n",
            "404/404 [==============================] - 0s 107us/step - loss: 22.8793 - acc: 0.0124 - val_loss: 23.3570 - val_acc: 0.0000e+00\n",
            "Epoch 64/300\n",
            "404/404 [==============================] - 0s 101us/step - loss: 22.0430 - acc: 0.0099 - val_loss: 21.5460 - val_acc: 0.0000e+00\n",
            "Epoch 65/300\n",
            "404/404 [==============================] - 0s 109us/step - loss: 19.6512 - acc: 0.0124 - val_loss: 19.8987 - val_acc: 0.0098\n",
            "Epoch 66/300\n",
            "404/404 [==============================] - 0s 102us/step - loss: 18.1655 - acc: 0.0223 - val_loss: 21.3941 - val_acc: 0.0098\n",
            "Epoch 67/300\n",
            "404/404 [==============================] - 0s 113us/step - loss: 20.6426 - acc: 0.0124 - val_loss: 21.4253 - val_acc: 0.0196\n",
            "Epoch 68/300\n",
            "404/404 [==============================] - 0s 110us/step - loss: 21.6722 - acc: 0.0025 - val_loss: 20.6180 - val_acc: 0.0098\n",
            "Epoch 69/300\n",
            "404/404 [==============================] - 0s 107us/step - loss: 19.7415 - acc: 0.0074 - val_loss: 20.8776 - val_acc: 0.0294\n",
            "Epoch 70/300\n",
            "404/404 [==============================] - 0s 106us/step - loss: 20.7083 - acc: 0.0124 - val_loss: 19.4360 - val_acc: 0.0196\n",
            "Epoch 71/300\n",
            "404/404 [==============================] - 0s 119us/step - loss: 18.3911 - acc: 0.0099 - val_loss: 18.8230 - val_acc: 0.0196\n",
            "Epoch 72/300\n",
            "404/404 [==============================] - 0s 107us/step - loss: 19.7418 - acc: 0.0124 - val_loss: 19.1769 - val_acc: 0.0098\n",
            "Epoch 73/300\n",
            "404/404 [==============================] - 0s 114us/step - loss: 18.3439 - acc: 0.0223 - val_loss: 19.6601 - val_acc: 0.0196\n",
            "Epoch 74/300\n",
            "404/404 [==============================] - 0s 104us/step - loss: 18.2490 - acc: 0.0074 - val_loss: 20.7273 - val_acc: 0.0000e+00\n",
            "Epoch 75/300\n",
            "404/404 [==============================] - 0s 102us/step - loss: 18.3942 - acc: 0.0124 - val_loss: 20.3889 - val_acc: 0.0196\n",
            "Epoch 76/300\n",
            "404/404 [==============================] - 0s 106us/step - loss: 20.0243 - acc: 0.0124 - val_loss: 21.2961 - val_acc: 0.0098\n",
            "Epoch 77/300\n",
            "404/404 [==============================] - 0s 106us/step - loss: 16.9441 - acc: 0.0099 - val_loss: 21.2591 - val_acc: 0.0196\n",
            "Epoch 78/300\n",
            "404/404 [==============================] - 0s 111us/step - loss: 19.1878 - acc: 0.0124 - val_loss: 19.8071 - val_acc: 0.0196\n",
            "Epoch 79/300\n",
            "404/404 [==============================] - 0s 105us/step - loss: 17.9005 - acc: 0.0198 - val_loss: 21.3682 - val_acc: 0.0000e+00\n",
            "Epoch 80/300\n",
            "404/404 [==============================] - 0s 107us/step - loss: 20.0992 - acc: 0.0149 - val_loss: 19.1122 - val_acc: 0.0196\n",
            "Epoch 81/300\n",
            "404/404 [==============================] - 0s 104us/step - loss: 19.1241 - acc: 0.0173 - val_loss: 20.3702 - val_acc: 0.0196\n",
            "Epoch 82/300\n",
            "404/404 [==============================] - 0s 105us/step - loss: 17.8874 - acc: 0.0074 - val_loss: 20.0757 - val_acc: 0.0098\n",
            "Epoch 83/300\n",
            "404/404 [==============================] - 0s 116us/step - loss: 16.5505 - acc: 0.0223 - val_loss: 19.9977 - val_acc: 0.0196\n",
            "Epoch 84/300\n",
            "404/404 [==============================] - 0s 102us/step - loss: 15.5077 - acc: 0.0173 - val_loss: 19.5247 - val_acc: 0.0000e+00\n",
            "Epoch 85/300\n",
            "404/404 [==============================] - 0s 108us/step - loss: 17.8572 - acc: 0.0149 - val_loss: 20.4306 - val_acc: 0.0196\n",
            "Epoch 86/300\n",
            "404/404 [==============================] - 0s 109us/step - loss: 18.4692 - acc: 0.0272 - val_loss: 19.3225 - val_acc: 0.0196\n",
            "Epoch 87/300\n",
            "404/404 [==============================] - 0s 105us/step - loss: 17.7632 - acc: 0.0173 - val_loss: 18.3416 - val_acc: 0.0294\n",
            "Epoch 88/300\n",
            "404/404 [==============================] - 0s 115us/step - loss: 17.8937 - acc: 0.0099 - val_loss: 19.5487 - val_acc: 0.0490\n",
            "Epoch 89/300\n",
            "404/404 [==============================] - 0s 111us/step - loss: 16.6362 - acc: 0.0198 - val_loss: 19.6330 - val_acc: 0.0098\n",
            "Epoch 90/300\n",
            "404/404 [==============================] - 0s 105us/step - loss: 17.4836 - acc: 0.0223 - val_loss: 18.9848 - val_acc: 0.0294\n",
            "Epoch 91/300\n",
            "404/404 [==============================] - 0s 106us/step - loss: 16.8654 - acc: 0.0124 - val_loss: 18.4021 - val_acc: 0.0098\n",
            "Epoch 92/300\n",
            "404/404 [==============================] - 0s 114us/step - loss: 16.5185 - acc: 0.0050 - val_loss: 18.0168 - val_acc: 0.0294\n",
            "Epoch 93/300\n",
            "404/404 [==============================] - 0s 111us/step - loss: 17.3862 - acc: 0.0322 - val_loss: 18.6813 - val_acc: 0.0196\n",
            "Epoch 94/300\n",
            "404/404 [==============================] - 0s 105us/step - loss: 17.7051 - acc: 0.0074 - val_loss: 21.3134 - val_acc: 0.0098\n",
            "Epoch 95/300\n",
            "404/404 [==============================] - 0s 110us/step - loss: 17.2488 - acc: 0.0124 - val_loss: 17.8573 - val_acc: 0.0098\n",
            "Epoch 96/300\n",
            "404/404 [==============================] - 0s 107us/step - loss: 17.9342 - acc: 0.0149 - val_loss: 18.8971 - val_acc: 0.0294\n",
            "Epoch 97/300\n",
            "404/404 [==============================] - 0s 108us/step - loss: 17.2421 - acc: 0.0198 - val_loss: 18.2239 - val_acc: 0.0098\n",
            "Epoch 98/300\n",
            "404/404 [==============================] - 0s 115us/step - loss: 16.9587 - acc: 0.0099 - val_loss: 24.2432 - val_acc: 0.0098\n",
            "Epoch 99/300\n",
            "404/404 [==============================] - 0s 108us/step - loss: 15.0552 - acc: 0.0124 - val_loss: 18.4076 - val_acc: 0.0196\n",
            "Epoch 100/300\n",
            "404/404 [==============================] - 0s 107us/step - loss: 16.2223 - acc: 0.0198 - val_loss: 17.7361 - val_acc: 0.0392\n",
            "Epoch 101/300\n",
            "404/404 [==============================] - 0s 108us/step - loss: 15.3068 - acc: 0.0025 - val_loss: 17.6552 - val_acc: 0.0294\n",
            "Epoch 102/300\n",
            "404/404 [==============================] - 0s 110us/step - loss: 16.3871 - acc: 0.0248 - val_loss: 20.9891 - val_acc: 0.0000e+00\n",
            "Epoch 103/300\n",
            "404/404 [==============================] - 0s 113us/step - loss: 15.8610 - acc: 0.0173 - val_loss: 23.4920 - val_acc: 0.0196\n",
            "Epoch 104/300\n",
            "404/404 [==============================] - 0s 110us/step - loss: 16.7165 - acc: 0.0149 - val_loss: 31.2344 - val_acc: 0.0098\n",
            "Epoch 105/300\n",
            "404/404 [==============================] - 0s 110us/step - loss: 22.6792 - acc: 0.0074 - val_loss: 30.0817 - val_acc: 0.0000e+00\n",
            "Epoch 106/300\n",
            "404/404 [==============================] - 0s 114us/step - loss: 20.2731 - acc: 0.0198 - val_loss: 18.6436 - val_acc: 0.0196\n",
            "Epoch 107/300\n",
            "404/404 [==============================] - 0s 105us/step - loss: 17.0271 - acc: 0.0124 - val_loss: 17.6453 - val_acc: 0.0000e+00\n",
            "Epoch 108/300\n",
            "404/404 [==============================] - 0s 105us/step - loss: 16.2159 - acc: 0.0074 - val_loss: 17.7937 - val_acc: 0.0196\n",
            "Epoch 109/300\n",
            "404/404 [==============================] - 0s 105us/step - loss: 15.6437 - acc: 0.0099 - val_loss: 16.6989 - val_acc: 0.0588\n",
            "Epoch 110/300\n",
            "404/404 [==============================] - 0s 111us/step - loss: 15.6859 - acc: 0.0099 - val_loss: 17.3447 - val_acc: 0.0196\n",
            "Epoch 111/300\n",
            "404/404 [==============================] - 0s 117us/step - loss: 15.3970 - acc: 0.0297 - val_loss: 18.0624 - val_acc: 0.0000e+00\n",
            "Epoch 112/300\n",
            "404/404 [==============================] - 0s 110us/step - loss: 14.5731 - acc: 0.0173 - val_loss: 17.8437 - val_acc: 0.0196\n",
            "Epoch 113/300\n",
            "404/404 [==============================] - 0s 109us/step - loss: 19.7858 - acc: 0.0099 - val_loss: 25.8198 - val_acc: 0.0490\n",
            "Epoch 114/300\n",
            "404/404 [==============================] - 0s 110us/step - loss: 19.9479 - acc: 0.0124 - val_loss: 22.1961 - val_acc: 0.0000e+00\n",
            "Epoch 115/300\n",
            "404/404 [==============================] - 0s 114us/step - loss: 16.8921 - acc: 0.0198 - val_loss: 22.4012 - val_acc: 0.0196\n",
            "Epoch 116/300\n",
            "404/404 [==============================] - 0s 106us/step - loss: 15.3816 - acc: 0.0272 - val_loss: 16.9939 - val_acc: 0.0098\n",
            "Epoch 117/300\n",
            "404/404 [==============================] - 0s 102us/step - loss: 15.5351 - acc: 0.0099 - val_loss: 18.4616 - val_acc: 0.0000e+00\n",
            "Epoch 118/300\n",
            "404/404 [==============================] - 0s 111us/step - loss: 14.6718 - acc: 0.0198 - val_loss: 17.3340 - val_acc: 0.0000e+00\n",
            "Epoch 119/300\n",
            "404/404 [==============================] - 0s 103us/step - loss: 16.4690 - acc: 0.0173 - val_loss: 17.0389 - val_acc: 0.0294\n",
            "Epoch 120/300\n",
            "404/404 [==============================] - 0s 112us/step - loss: 15.4574 - acc: 0.0149 - val_loss: 16.9741 - val_acc: 0.0196\n",
            "Epoch 121/300\n",
            "404/404 [==============================] - 0s 112us/step - loss: 16.1472 - acc: 0.0173 - val_loss: 18.8262 - val_acc: 0.0392\n",
            "Epoch 122/300\n",
            "404/404 [==============================] - 0s 108us/step - loss: 16.1824 - acc: 0.0050 - val_loss: 16.4170 - val_acc: 0.0196\n",
            "Epoch 123/300\n",
            "404/404 [==============================] - 0s 102us/step - loss: 16.3573 - acc: 0.0074 - val_loss: 17.9690 - val_acc: 0.0392\n",
            "Epoch 124/300\n",
            "404/404 [==============================] - 0s 106us/step - loss: 15.8665 - acc: 0.0173 - val_loss: 18.9366 - val_acc: 0.0098\n",
            "Epoch 125/300\n",
            "404/404 [==============================] - 0s 140us/step - loss: 16.6520 - acc: 0.0124 - val_loss: 17.2537 - val_acc: 0.0000e+00\n",
            "Epoch 126/300\n",
            "404/404 [==============================] - 0s 120us/step - loss: 17.9662 - acc: 0.0099 - val_loss: 19.0668 - val_acc: 0.0098\n",
            "Epoch 127/300\n",
            "404/404 [==============================] - 0s 106us/step - loss: 19.2677 - acc: 0.0149 - val_loss: 18.6090 - val_acc: 0.0196\n",
            "Epoch 128/300\n",
            "404/404 [==============================] - 0s 111us/step - loss: 14.3051 - acc: 0.0223 - val_loss: 17.8141 - val_acc: 0.0000e+00\n",
            "Epoch 129/300\n",
            "404/404 [==============================] - 0s 106us/step - loss: 13.7124 - acc: 0.0223 - val_loss: 17.4842 - val_acc: 0.0294\n",
            "Epoch 130/300\n",
            "404/404 [==============================] - 0s 103us/step - loss: 14.7747 - acc: 0.0074 - val_loss: 17.6891 - val_acc: 0.0392\n",
            "Epoch 131/300\n",
            "404/404 [==============================] - 0s 107us/step - loss: 15.2828 - acc: 0.0149 - val_loss: 16.7031 - val_acc: 0.0392\n",
            "Epoch 132/300\n",
            "404/404 [==============================] - 0s 112us/step - loss: 17.1974 - acc: 0.0149 - val_loss: 18.5372 - val_acc: 0.0098\n",
            "Epoch 133/300\n",
            "404/404 [==============================] - 0s 111us/step - loss: 17.0557 - acc: 0.0074 - val_loss: 16.9711 - val_acc: 0.0098\n",
            "Epoch 134/300\n",
            "404/404 [==============================] - 0s 102us/step - loss: 16.9026 - acc: 0.0149 - val_loss: 15.9940 - val_acc: 0.0098\n",
            "Epoch 135/300\n",
            "404/404 [==============================] - 0s 108us/step - loss: 18.3873 - acc: 0.0074 - val_loss: 18.9064 - val_acc: 0.0294\n",
            "Epoch 136/300\n",
            "404/404 [==============================] - 0s 115us/step - loss: 14.4747 - acc: 0.0198 - val_loss: 16.5473 - val_acc: 0.0000e+00\n",
            "Epoch 137/300\n",
            "404/404 [==============================] - 0s 111us/step - loss: 14.7851 - acc: 0.0149 - val_loss: 16.7453 - val_acc: 0.0098\n",
            "Epoch 138/300\n",
            "404/404 [==============================] - 0s 110us/step - loss: 15.5350 - acc: 0.0099 - val_loss: 16.7967 - val_acc: 0.0196\n",
            "Epoch 139/300\n",
            "404/404 [==============================] - 0s 114us/step - loss: 13.2789 - acc: 0.0173 - val_loss: 17.0609 - val_acc: 0.0098\n",
            "Epoch 140/300\n",
            "404/404 [==============================] - 0s 111us/step - loss: 14.3141 - acc: 0.0099 - val_loss: 21.9286 - val_acc: 0.0196\n",
            "Epoch 141/300\n",
            "404/404 [==============================] - 0s 107us/step - loss: 15.8607 - acc: 0.0149 - val_loss: 18.2277 - val_acc: 0.0098\n",
            "Epoch 142/300\n",
            "404/404 [==============================] - 0s 110us/step - loss: 14.6447 - acc: 0.0173 - val_loss: 19.6922 - val_acc: 0.0196\n",
            "Epoch 143/300\n",
            "404/404 [==============================] - 0s 112us/step - loss: 15.0177 - acc: 0.0124 - val_loss: 17.9912 - val_acc: 0.0098\n",
            "Epoch 144/300\n",
            "404/404 [==============================] - 0s 111us/step - loss: 15.7773 - acc: 0.0124 - val_loss: 17.5519 - val_acc: 0.0392\n",
            "Epoch 145/300\n",
            "404/404 [==============================] - 0s 110us/step - loss: 17.4047 - acc: 0.0223 - val_loss: 16.6195 - val_acc: 0.0000e+00\n",
            "Epoch 146/300\n",
            "404/404 [==============================] - 0s 105us/step - loss: 16.0791 - acc: 0.0149 - val_loss: 15.6515 - val_acc: 0.0196\n",
            "Epoch 147/300\n",
            "404/404 [==============================] - 0s 112us/step - loss: 13.8465 - acc: 0.0173 - val_loss: 16.7509 - val_acc: 0.0000e+00\n",
            "Epoch 148/300\n",
            "404/404 [==============================] - 0s 117us/step - loss: 15.4764 - acc: 0.0173 - val_loss: 16.7248 - val_acc: 0.0196\n",
            "Epoch 149/300\n",
            "404/404 [==============================] - 0s 113us/step - loss: 15.6855 - acc: 0.0149 - val_loss: 15.8340 - val_acc: 0.0490\n",
            "Epoch 150/300\n",
            "404/404 [==============================] - 0s 107us/step - loss: 15.7541 - acc: 0.0149 - val_loss: 16.4519 - val_acc: 0.0196\n",
            "Epoch 151/300\n",
            "404/404 [==============================] - 0s 112us/step - loss: 15.1643 - acc: 0.0149 - val_loss: 15.4374 - val_acc: 0.0392\n",
            "Epoch 152/300\n",
            "404/404 [==============================] - 0s 107us/step - loss: 14.6822 - acc: 0.0149 - val_loss: 16.2991 - val_acc: 0.0098\n",
            "Epoch 153/300\n",
            "404/404 [==============================] - 0s 105us/step - loss: 15.0886 - acc: 0.0099 - val_loss: 15.6644 - val_acc: 0.0196\n",
            "Epoch 154/300\n",
            "404/404 [==============================] - 0s 104us/step - loss: 14.7897 - acc: 0.0198 - val_loss: 16.7101 - val_acc: 0.0000e+00\n",
            "Epoch 155/300\n",
            "404/404 [==============================] - 0s 111us/step - loss: 15.2348 - acc: 0.0099 - val_loss: 15.2402 - val_acc: 0.0392\n",
            "Epoch 156/300\n",
            "404/404 [==============================] - 0s 104us/step - loss: 15.4875 - acc: 0.0198 - val_loss: 14.6655 - val_acc: 0.0196\n",
            "Epoch 157/300\n",
            "404/404 [==============================] - 0s 105us/step - loss: 14.1828 - acc: 0.0074 - val_loss: 17.2626 - val_acc: 0.0098\n",
            "Epoch 158/300\n",
            "404/404 [==============================] - 0s 115us/step - loss: 12.3241 - acc: 0.0124 - val_loss: 17.7748 - val_acc: 0.0000e+00\n",
            "Epoch 159/300\n",
            "404/404 [==============================] - 0s 108us/step - loss: 14.2166 - acc: 0.0124 - val_loss: 17.6372 - val_acc: 0.0000e+00\n",
            "Epoch 160/300\n",
            "404/404 [==============================] - 0s 108us/step - loss: 14.6409 - acc: 0.0173 - val_loss: 17.7338 - val_acc: 0.0098\n",
            "Epoch 161/300\n",
            "404/404 [==============================] - 0s 104us/step - loss: 15.0836 - acc: 0.0124 - val_loss: 16.4855 - val_acc: 0.0098\n",
            "Epoch 162/300\n",
            "404/404 [==============================] - 0s 105us/step - loss: 13.6875 - acc: 0.0173 - val_loss: 16.4179 - val_acc: 0.0196\n",
            "Epoch 163/300\n",
            "404/404 [==============================] - 0s 104us/step - loss: 14.4439 - acc: 0.0074 - val_loss: 14.8356 - val_acc: 0.0196\n",
            "Epoch 164/300\n",
            "404/404 [==============================] - 0s 105us/step - loss: 13.9623 - acc: 0.0124 - val_loss: 15.8356 - val_acc: 0.0196\n",
            "Epoch 165/300\n",
            "404/404 [==============================] - 0s 100us/step - loss: 16.4561 - acc: 0.0173 - val_loss: 16.1369 - val_acc: 0.0490\n",
            "Epoch 166/300\n",
            "404/404 [==============================] - 0s 106us/step - loss: 16.0169 - acc: 0.0124 - val_loss: 14.6483 - val_acc: 0.0294\n",
            "Epoch 167/300\n",
            "404/404 [==============================] - 0s 101us/step - loss: 14.1560 - acc: 0.0223 - val_loss: 15.0073 - val_acc: 0.0294\n",
            "Epoch 168/300\n",
            "404/404 [==============================] - 0s 108us/step - loss: 14.4806 - acc: 0.0099 - val_loss: 15.5934 - val_acc: 0.0098\n",
            "Epoch 169/300\n",
            "404/404 [==============================] - 0s 105us/step - loss: 13.0549 - acc: 0.0322 - val_loss: 15.4309 - val_acc: 0.0196\n",
            "Epoch 170/300\n",
            "404/404 [==============================] - 0s 109us/step - loss: 12.8292 - acc: 0.0149 - val_loss: 15.4014 - val_acc: 0.0392\n",
            "Epoch 171/300\n",
            "404/404 [==============================] - 0s 106us/step - loss: 16.0452 - acc: 0.0124 - val_loss: 19.1131 - val_acc: 0.0098\n",
            "Epoch 172/300\n",
            "404/404 [==============================] - 0s 111us/step - loss: 15.3582 - acc: 0.0173 - val_loss: 14.7905 - val_acc: 0.0490\n",
            "Epoch 173/300\n",
            "404/404 [==============================] - 0s 110us/step - loss: 12.6821 - acc: 0.0124 - val_loss: 14.4065 - val_acc: 0.0098\n",
            "Epoch 174/300\n",
            "404/404 [==============================] - 0s 106us/step - loss: 13.7758 - acc: 0.0173 - val_loss: 14.3755 - val_acc: 0.0000e+00\n",
            "Epoch 175/300\n",
            "404/404 [==============================] - 0s 107us/step - loss: 13.6330 - acc: 0.0124 - val_loss: 13.7230 - val_acc: 0.0294\n",
            "Epoch 176/300\n",
            "404/404 [==============================] - 0s 115us/step - loss: 13.9984 - acc: 0.0149 - val_loss: 14.8590 - val_acc: 0.0294\n",
            "Epoch 177/300\n",
            "404/404 [==============================] - 0s 113us/step - loss: 12.6026 - acc: 0.0099 - val_loss: 14.8870 - val_acc: 0.0196\n",
            "Epoch 178/300\n",
            "404/404 [==============================] - 0s 109us/step - loss: 15.8553 - acc: 0.0149 - val_loss: 16.7894 - val_acc: 0.0490\n",
            "Epoch 179/300\n",
            "404/404 [==============================] - 0s 116us/step - loss: 14.9411 - acc: 0.0149 - val_loss: 15.9283 - val_acc: 0.0392\n",
            "Epoch 180/300\n",
            "404/404 [==============================] - 0s 111us/step - loss: 18.3542 - acc: 0.0198 - val_loss: 15.3583 - val_acc: 0.0196\n",
            "Epoch 181/300\n",
            "404/404 [==============================] - 0s 113us/step - loss: 14.4011 - acc: 0.0198 - val_loss: 13.6985 - val_acc: 0.0294\n",
            "Epoch 182/300\n",
            "404/404 [==============================] - 0s 105us/step - loss: 15.4911 - acc: 0.0248 - val_loss: 14.5733 - val_acc: 0.0490\n",
            "Epoch 183/300\n",
            "404/404 [==============================] - 0s 106us/step - loss: 14.0875 - acc: 0.0223 - val_loss: 14.7338 - val_acc: 0.0000e+00\n",
            "Epoch 184/300\n",
            "404/404 [==============================] - 0s 108us/step - loss: 13.9507 - acc: 0.0198 - val_loss: 16.0292 - val_acc: 0.0196\n",
            "Epoch 185/300\n",
            "404/404 [==============================] - 0s 105us/step - loss: 14.9467 - acc: 0.0124 - val_loss: 16.5681 - val_acc: 0.0196\n",
            "Epoch 186/300\n",
            "404/404 [==============================] - 0s 108us/step - loss: 14.4214 - acc: 0.0099 - val_loss: 14.5292 - val_acc: 0.0098\n",
            "Epoch 187/300\n",
            "404/404 [==============================] - 0s 108us/step - loss: 12.3836 - acc: 0.0050 - val_loss: 14.5586 - val_acc: 0.0098\n",
            "Epoch 188/300\n",
            "404/404 [==============================] - 0s 108us/step - loss: 13.8720 - acc: 0.0099 - val_loss: 14.7189 - val_acc: 0.0392\n",
            "Epoch 189/300\n",
            "404/404 [==============================] - 0s 112us/step - loss: 14.3124 - acc: 0.0149 - val_loss: 14.0294 - val_acc: 0.0098\n",
            "Epoch 190/300\n",
            "404/404 [==============================] - 0s 115us/step - loss: 14.5091 - acc: 0.0173 - val_loss: 13.4001 - val_acc: 0.0196\n",
            "Epoch 191/300\n",
            "404/404 [==============================] - 0s 107us/step - loss: 12.8662 - acc: 0.0124 - val_loss: 14.9307 - val_acc: 0.0098\n",
            "Epoch 192/300\n",
            "404/404 [==============================] - 0s 108us/step - loss: 13.4305 - acc: 0.0149 - val_loss: 16.0295 - val_acc: 0.0098\n",
            "Epoch 193/300\n",
            "404/404 [==============================] - 0s 110us/step - loss: 13.5513 - acc: 0.0149 - val_loss: 14.0866 - val_acc: 0.0196\n",
            "Epoch 194/300\n",
            "404/404 [==============================] - 0s 108us/step - loss: 13.0000 - acc: 0.0149 - val_loss: 14.3159 - val_acc: 0.0196\n",
            "Epoch 195/300\n",
            "404/404 [==============================] - 0s 111us/step - loss: 14.0444 - acc: 0.0149 - val_loss: 13.9420 - val_acc: 0.0392\n",
            "Epoch 196/300\n",
            "404/404 [==============================] - 0s 104us/step - loss: 14.3154 - acc: 0.0124 - val_loss: 14.2457 - val_acc: 0.0000e+00\n",
            "Epoch 197/300\n",
            "404/404 [==============================] - 0s 109us/step - loss: 12.7092 - acc: 0.0223 - val_loss: 13.0612 - val_acc: 0.0294\n",
            "Epoch 198/300\n",
            "404/404 [==============================] - 0s 110us/step - loss: 13.5459 - acc: 0.0272 - val_loss: 13.5411 - val_acc: 0.0000e+00\n",
            "Epoch 199/300\n",
            "404/404 [==============================] - 0s 113us/step - loss: 12.7842 - acc: 0.0198 - val_loss: 14.4224 - val_acc: 0.0000e+00\n",
            "Epoch 200/300\n",
            "404/404 [==============================] - 0s 110us/step - loss: 11.1153 - acc: 0.0223 - val_loss: 14.8423 - val_acc: 0.0000e+00\n",
            "Epoch 201/300\n",
            "404/404 [==============================] - 0s 108us/step - loss: 14.8541 - acc: 0.0124 - val_loss: 13.9050 - val_acc: 0.0294\n",
            "Epoch 202/300\n",
            "404/404 [==============================] - 0s 113us/step - loss: 13.2332 - acc: 0.0074 - val_loss: 12.8798 - val_acc: 0.0098\n",
            "Epoch 203/300\n",
            "404/404 [==============================] - 0s 104us/step - loss: 13.0350 - acc: 0.0173 - val_loss: 14.3165 - val_acc: 0.0196\n",
            "Epoch 204/300\n",
            "404/404 [==============================] - 0s 106us/step - loss: 12.7945 - acc: 0.0223 - val_loss: 13.4352 - val_acc: 0.0000e+00\n",
            "Epoch 205/300\n",
            "404/404 [==============================] - 0s 109us/step - loss: 12.2859 - acc: 0.0149 - val_loss: 16.2746 - val_acc: 0.0000e+00\n",
            "Epoch 206/300\n",
            "404/404 [==============================] - 0s 104us/step - loss: 12.9985 - acc: 0.0124 - val_loss: 14.1137 - val_acc: 0.0098\n",
            "Epoch 207/300\n",
            "404/404 [==============================] - 0s 110us/step - loss: 13.4220 - acc: 0.0099 - val_loss: 15.3915 - val_acc: 0.0196\n",
            "Epoch 208/300\n",
            "404/404 [==============================] - 0s 112us/step - loss: 12.3701 - acc: 0.0124 - val_loss: 15.6259 - val_acc: 0.0098\n",
            "Epoch 209/300\n",
            "404/404 [==============================] - 0s 110us/step - loss: 14.6245 - acc: 0.0223 - val_loss: 12.7661 - val_acc: 0.0294\n",
            "Epoch 210/300\n",
            "404/404 [==============================] - 0s 108us/step - loss: 13.6777 - acc: 0.0099 - val_loss: 13.6467 - val_acc: 0.0196\n",
            "Epoch 211/300\n",
            "404/404 [==============================] - 0s 106us/step - loss: 11.4341 - acc: 0.0297 - val_loss: 15.8311 - val_acc: 0.0196\n",
            "Epoch 212/300\n",
            "404/404 [==============================] - 0s 108us/step - loss: 11.1096 - acc: 0.0198 - val_loss: 14.2328 - val_acc: 0.0098\n",
            "Epoch 213/300\n",
            "404/404 [==============================] - 0s 109us/step - loss: 12.9806 - acc: 0.0074 - val_loss: 13.0665 - val_acc: 0.0098\n",
            "Epoch 214/300\n",
            "404/404 [==============================] - 0s 109us/step - loss: 12.2486 - acc: 0.0173 - val_loss: 12.8979 - val_acc: 0.0294\n",
            "Epoch 215/300\n",
            "404/404 [==============================] - 0s 103us/step - loss: 16.3140 - acc: 0.0099 - val_loss: 13.1019 - val_acc: 0.0098\n",
            "Epoch 216/300\n",
            "404/404 [==============================] - 0s 117us/step - loss: 11.6576 - acc: 0.0173 - val_loss: 16.4808 - val_acc: 0.0000e+00\n",
            "Epoch 217/300\n",
            "404/404 [==============================] - 0s 105us/step - loss: 12.3569 - acc: 0.0149 - val_loss: 13.7188 - val_acc: 0.0000e+00\n",
            "Epoch 218/300\n",
            "404/404 [==============================] - 0s 106us/step - loss: 11.1775 - acc: 0.0198 - val_loss: 13.2155 - val_acc: 0.0098\n",
            "Epoch 219/300\n",
            "404/404 [==============================] - 0s 106us/step - loss: 11.4265 - acc: 0.0198 - val_loss: 13.2065 - val_acc: 0.0000e+00\n",
            "Epoch 220/300\n",
            "404/404 [==============================] - 0s 107us/step - loss: 13.7285 - acc: 0.0198 - val_loss: 14.8359 - val_acc: 0.0000e+00\n",
            "Epoch 221/300\n",
            "404/404 [==============================] - 0s 110us/step - loss: 14.4657 - acc: 0.0099 - val_loss: 17.8891 - val_acc: 0.0098\n",
            "Epoch 222/300\n",
            "404/404 [==============================] - 0s 106us/step - loss: 14.3501 - acc: 0.0223 - val_loss: 15.5409 - val_acc: 0.0000e+00\n",
            "Epoch 223/300\n",
            "404/404 [==============================] - 0s 112us/step - loss: 12.6967 - acc: 0.0149 - val_loss: 14.0338 - val_acc: 0.0000e+00\n",
            "Epoch 224/300\n",
            "404/404 [==============================] - 0s 105us/step - loss: 11.6572 - acc: 0.0297 - val_loss: 15.5769 - val_acc: 0.0196\n",
            "Epoch 225/300\n",
            "404/404 [==============================] - 0s 110us/step - loss: 12.9249 - acc: 0.0124 - val_loss: 15.0912 - val_acc: 0.0000e+00\n",
            "Epoch 226/300\n",
            "404/404 [==============================] - 0s 106us/step - loss: 13.0116 - acc: 0.0248 - val_loss: 11.9978 - val_acc: 0.0490\n",
            "Epoch 227/300\n",
            "404/404 [==============================] - 0s 114us/step - loss: 11.6799 - acc: 0.0173 - val_loss: 14.5677 - val_acc: 0.0000e+00\n",
            "Epoch 228/300\n",
            "404/404 [==============================] - 0s 110us/step - loss: 12.9693 - acc: 0.0173 - val_loss: 17.5935 - val_acc: 0.0196\n",
            "Epoch 229/300\n",
            "404/404 [==============================] - 0s 112us/step - loss: 12.0466 - acc: 0.0124 - val_loss: 12.9834 - val_acc: 0.0294\n",
            "Epoch 230/300\n",
            "404/404 [==============================] - 0s 111us/step - loss: 12.3055 - acc: 0.0149 - val_loss: 13.1591 - val_acc: 0.0294\n",
            "Epoch 231/300\n",
            "404/404 [==============================] - 0s 108us/step - loss: 10.9990 - acc: 0.0223 - val_loss: 13.6969 - val_acc: 0.0098\n",
            "Epoch 232/300\n",
            "404/404 [==============================] - 0s 111us/step - loss: 11.5569 - acc: 0.0099 - val_loss: 13.0679 - val_acc: 0.0098\n",
            "Epoch 233/300\n",
            "404/404 [==============================] - 0s 116us/step - loss: 12.5453 - acc: 0.0124 - val_loss: 16.3603 - val_acc: 0.0000e+00\n",
            "Epoch 234/300\n",
            "404/404 [==============================] - 0s 113us/step - loss: 13.0624 - acc: 0.0149 - val_loss: 16.8949 - val_acc: 0.0098\n",
            "Epoch 235/300\n",
            "404/404 [==============================] - 0s 108us/step - loss: 11.8826 - acc: 0.0149 - val_loss: 12.9207 - val_acc: 0.0098\n",
            "Epoch 236/300\n",
            "404/404 [==============================] - 0s 111us/step - loss: 14.9442 - acc: 0.0149 - val_loss: 12.5560 - val_acc: 0.0098\n",
            "Epoch 237/300\n",
            "404/404 [==============================] - 0s 120us/step - loss: 12.9403 - acc: 0.0223 - val_loss: 13.3766 - val_acc: 0.0294\n",
            "Epoch 238/300\n",
            "404/404 [==============================] - 0s 117us/step - loss: 12.2999 - acc: 0.0223 - val_loss: 13.4774 - val_acc: 0.0000e+00\n",
            "Epoch 239/300\n",
            "404/404 [==============================] - 0s 110us/step - loss: 11.9666 - acc: 0.0124 - val_loss: 12.3784 - val_acc: 0.0098\n",
            "Epoch 240/300\n",
            "404/404 [==============================] - 0s 109us/step - loss: 12.2430 - acc: 0.0149 - val_loss: 12.1546 - val_acc: 0.0294\n",
            "Epoch 241/300\n",
            "404/404 [==============================] - 0s 109us/step - loss: 12.5450 - acc: 0.0099 - val_loss: 13.0284 - val_acc: 0.0000e+00\n",
            "Epoch 242/300\n",
            "404/404 [==============================] - 0s 113us/step - loss: 14.2943 - acc: 0.0099 - val_loss: 15.0712 - val_acc: 0.0098\n",
            "Epoch 243/300\n",
            "404/404 [==============================] - 0s 121us/step - loss: 11.6980 - acc: 0.0173 - val_loss: 12.1038 - val_acc: 0.0098\n",
            "Epoch 244/300\n",
            "404/404 [==============================] - 0s 117us/step - loss: 12.0177 - acc: 0.0124 - val_loss: 13.3982 - val_acc: 0.0000e+00\n",
            "Epoch 245/300\n",
            "404/404 [==============================] - 0s 117us/step - loss: 11.7709 - acc: 0.0074 - val_loss: 11.1405 - val_acc: 0.0196\n",
            "Epoch 246/300\n",
            "404/404 [==============================] - 0s 132us/step - loss: 10.6203 - acc: 0.0223 - val_loss: 11.3146 - val_acc: 0.0294\n",
            "Epoch 247/300\n",
            "404/404 [==============================] - 0s 123us/step - loss: 10.9397 - acc: 0.0173 - val_loss: 11.3835 - val_acc: 0.0098\n",
            "Epoch 248/300\n",
            "404/404 [==============================] - 0s 122us/step - loss: 12.8096 - acc: 0.0223 - val_loss: 10.6520 - val_acc: 0.0098\n",
            "Epoch 249/300\n",
            "404/404 [==============================] - 0s 119us/step - loss: 11.2723 - acc: 0.0149 - val_loss: 11.4818 - val_acc: 0.0196\n",
            "Epoch 250/300\n",
            "404/404 [==============================] - 0s 124us/step - loss: 11.8909 - acc: 0.0322 - val_loss: 11.7377 - val_acc: 0.0196\n",
            "Epoch 251/300\n",
            "404/404 [==============================] - 0s 123us/step - loss: 12.7102 - acc: 0.0124 - val_loss: 13.5074 - val_acc: 0.0196\n",
            "Epoch 252/300\n",
            "404/404 [==============================] - 0s 127us/step - loss: 13.0417 - acc: 0.0124 - val_loss: 13.0407 - val_acc: 0.0098\n",
            "Epoch 253/300\n",
            "404/404 [==============================] - 0s 113us/step - loss: 12.5425 - acc: 0.0124 - val_loss: 15.3136 - val_acc: 0.0098\n",
            "Epoch 254/300\n",
            "404/404 [==============================] - 0s 122us/step - loss: 11.1592 - acc: 0.0099 - val_loss: 12.1491 - val_acc: 0.0294\n",
            "Epoch 255/300\n",
            "404/404 [==============================] - 0s 127us/step - loss: 10.0885 - acc: 0.0248 - val_loss: 12.0061 - val_acc: 0.0196\n",
            "Epoch 256/300\n",
            "404/404 [==============================] - 0s 122us/step - loss: 12.1259 - acc: 0.0173 - val_loss: 12.1669 - val_acc: 0.0000e+00\n",
            "Epoch 257/300\n",
            "404/404 [==============================] - 0s 106us/step - loss: 11.8740 - acc: 0.0074 - val_loss: 11.2769 - val_acc: 0.0392\n",
            "Epoch 258/300\n",
            "404/404 [==============================] - 0s 109us/step - loss: 11.8488 - acc: 0.0149 - val_loss: 11.7033 - val_acc: 0.0294\n",
            "Epoch 259/300\n",
            "404/404 [==============================] - 0s 115us/step - loss: 10.8471 - acc: 0.0322 - val_loss: 10.9977 - val_acc: 0.0098\n",
            "Epoch 260/300\n",
            "404/404 [==============================] - 0s 113us/step - loss: 11.7519 - acc: 0.0149 - val_loss: 11.1873 - val_acc: 0.0000e+00\n",
            "Epoch 261/300\n",
            "404/404 [==============================] - 0s 117us/step - loss: 9.7883 - acc: 0.0099 - val_loss: 14.1244 - val_acc: 0.0098\n",
            "Epoch 262/300\n",
            "404/404 [==============================] - 0s 110us/step - loss: 10.9954 - acc: 0.0074 - val_loss: 12.4464 - val_acc: 0.0196\n",
            "Epoch 263/300\n",
            "404/404 [==============================] - 0s 114us/step - loss: 11.7305 - acc: 0.0099 - val_loss: 10.7605 - val_acc: 0.0392\n",
            "Epoch 264/300\n",
            "404/404 [==============================] - 0s 110us/step - loss: 11.4723 - acc: 0.0173 - val_loss: 12.0219 - val_acc: 0.0098\n",
            "Epoch 265/300\n",
            "404/404 [==============================] - 0s 102us/step - loss: 10.8517 - acc: 0.0074 - val_loss: 13.4326 - val_acc: 0.0098\n",
            "Epoch 266/300\n",
            "404/404 [==============================] - 0s 115us/step - loss: 14.3779 - acc: 0.0272 - val_loss: 18.5135 - val_acc: 0.0294\n",
            "Epoch 267/300\n",
            "404/404 [==============================] - 0s 108us/step - loss: 14.7841 - acc: 0.0248 - val_loss: 13.6250 - val_acc: 0.0098\n",
            "Epoch 268/300\n",
            "404/404 [==============================] - 0s 114us/step - loss: 11.2608 - acc: 0.0124 - val_loss: 10.8243 - val_acc: 0.0098\n",
            "Epoch 269/300\n",
            "404/404 [==============================] - 0s 105us/step - loss: 11.9288 - acc: 0.0074 - val_loss: 12.5384 - val_acc: 0.0098\n",
            "Epoch 270/300\n",
            "404/404 [==============================] - 0s 111us/step - loss: 11.4183 - acc: 0.0149 - val_loss: 14.6263 - val_acc: 0.0098\n",
            "Epoch 271/300\n",
            "404/404 [==============================] - 0s 111us/step - loss: 12.2005 - acc: 0.0074 - val_loss: 10.5502 - val_acc: 0.0196\n",
            "Epoch 272/300\n",
            "404/404 [==============================] - 0s 102us/step - loss: 10.0546 - acc: 0.0173 - val_loss: 11.3205 - val_acc: 0.0294\n",
            "Epoch 273/300\n",
            "404/404 [==============================] - 0s 107us/step - loss: 12.0055 - acc: 0.0347 - val_loss: 11.4331 - val_acc: 0.0000e+00\n",
            "Epoch 274/300\n",
            "404/404 [==============================] - 0s 109us/step - loss: 10.3062 - acc: 0.0074 - val_loss: 10.9052 - val_acc: 0.0392\n",
            "Epoch 275/300\n",
            "404/404 [==============================] - 0s 118us/step - loss: 11.8333 - acc: 0.0223 - val_loss: 10.8978 - val_acc: 0.0392\n",
            "Epoch 276/300\n",
            "404/404 [==============================] - 0s 107us/step - loss: 10.4467 - acc: 0.0272 - val_loss: 10.4521 - val_acc: 0.0490\n",
            "Epoch 277/300\n",
            "404/404 [==============================] - 0s 112us/step - loss: 10.8410 - acc: 0.0223 - val_loss: 11.5215 - val_acc: 0.0392\n",
            "Epoch 278/300\n",
            "404/404 [==============================] - 0s 106us/step - loss: 12.7416 - acc: 0.0198 - val_loss: 10.4599 - val_acc: 0.0490\n",
            "Epoch 279/300\n",
            "404/404 [==============================] - 0s 112us/step - loss: 11.0522 - acc: 0.0223 - val_loss: 10.5723 - val_acc: 0.0392\n",
            "Epoch 280/300\n",
            "404/404 [==============================] - 0s 105us/step - loss: 11.5175 - acc: 0.0149 - val_loss: 10.6780 - val_acc: 0.0294\n",
            "Epoch 281/300\n",
            "404/404 [==============================] - 0s 115us/step - loss: 10.7853 - acc: 0.0173 - val_loss: 10.8235 - val_acc: 0.0000e+00\n",
            "Epoch 282/300\n",
            "404/404 [==============================] - 0s 112us/step - loss: 11.1651 - acc: 0.0099 - val_loss: 10.6884 - val_acc: 0.0392\n",
            "Epoch 283/300\n",
            "404/404 [==============================] - 0s 110us/step - loss: 12.3166 - acc: 0.0149 - val_loss: 11.9878 - val_acc: 0.0392\n",
            "Epoch 284/300\n",
            "404/404 [==============================] - 0s 118us/step - loss: 9.6703 - acc: 0.0149 - val_loss: 10.4610 - val_acc: 0.0294\n",
            "Epoch 285/300\n",
            "404/404 [==============================] - 0s 115us/step - loss: 11.8495 - acc: 0.0198 - val_loss: 11.0333 - val_acc: 0.0098\n",
            "Epoch 286/300\n",
            "404/404 [==============================] - 0s 111us/step - loss: 11.2463 - acc: 0.0173 - val_loss: 10.2488 - val_acc: 0.0098\n",
            "Epoch 287/300\n",
            "404/404 [==============================] - 0s 111us/step - loss: 11.1939 - acc: 0.0198 - val_loss: 12.6851 - val_acc: 0.0000e+00\n",
            "Epoch 288/300\n",
            "404/404 [==============================] - 0s 109us/step - loss: 11.6478 - acc: 0.0099 - val_loss: 11.5547 - val_acc: 0.0000e+00\n",
            "Epoch 289/300\n",
            "404/404 [==============================] - 0s 106us/step - loss: 11.6669 - acc: 0.0223 - val_loss: 10.8827 - val_acc: 0.0294\n",
            "Epoch 290/300\n",
            "404/404 [==============================] - 0s 102us/step - loss: 12.9727 - acc: 0.0149 - val_loss: 14.2387 - val_acc: 0.0196\n",
            "Epoch 291/300\n",
            "404/404 [==============================] - 0s 103us/step - loss: 12.2974 - acc: 0.0124 - val_loss: 14.6743 - val_acc: 0.0098\n",
            "Epoch 292/300\n",
            "404/404 [==============================] - 0s 111us/step - loss: 11.9943 - acc: 0.0198 - val_loss: 17.4551 - val_acc: 0.0196\n",
            "Epoch 293/300\n",
            "404/404 [==============================] - 0s 113us/step - loss: 12.1193 - acc: 0.0173 - val_loss: 10.7010 - val_acc: 0.0098\n",
            "Epoch 294/300\n",
            "404/404 [==============================] - 0s 102us/step - loss: 13.0010 - acc: 0.0149 - val_loss: 12.4962 - val_acc: 0.0196\n",
            "Epoch 295/300\n",
            "404/404 [==============================] - 0s 104us/step - loss: 11.4398 - acc: 0.0149 - val_loss: 14.0626 - val_acc: 0.0000e+00\n",
            "Epoch 296/300\n",
            "404/404 [==============================] - 0s 104us/step - loss: 11.2783 - acc: 0.0149 - val_loss: 12.9364 - val_acc: 0.0000e+00\n",
            "Epoch 297/300\n",
            "404/404 [==============================] - 0s 113us/step - loss: 13.7551 - acc: 0.0099 - val_loss: 10.7192 - val_acc: 0.0294\n",
            "Epoch 298/300\n",
            "404/404 [==============================] - 0s 100us/step - loss: 12.5510 - acc: 0.0149 - val_loss: 12.8982 - val_acc: 0.0196\n",
            "Epoch 299/300\n",
            "404/404 [==============================] - 0s 104us/step - loss: 14.5693 - acc: 0.0149 - val_loss: 11.4139 - val_acc: 0.0196\n",
            "Epoch 300/300\n",
            "404/404 [==============================] - 0s 103us/step - loss: 10.0972 - acc: 0.0198 - val_loss: 10.8751 - val_acc: 0.0098\n"
          ],
          "name": "stdout"
        }
      ]
    },
    {
      "metadata": {
        "id": "opPqYvsj_v8b",
        "colab_type": "code",
        "outputId": "9187546a-25b3-4141-d2c1-882ed68c47ba",
        "colab": {
          "base_uri": "https://localhost:8080/",
          "height": 34
        }
      },
      "cell_type": "code",
      "source": [
        "predict = model.evaluate(X_test[:,[0,1,2,3,4,5,7,8,10,12]] , t_test)"
      ],
      "execution_count": 367,
      "outputs": [
        {
          "output_type": "stream",
          "text": [
            "102/102 [==============================] - 0s 126us/step\n"
          ],
          "name": "stdout"
        }
      ]
    },
    {
      "metadata": {
        "id": "B5Lv_4gfARF6",
        "colab_type": "code",
        "outputId": "b9505bca-4958-4786-bfe5-859468156124",
        "colab": {
          "base_uri": "https://localhost:8080/",
          "height": 34
        }
      },
      "cell_type": "code",
      "source": [
        "predict[0]"
      ],
      "execution_count": 368,
      "outputs": [
        {
          "output_type": "execute_result",
          "data": {
            "text/plain": [
              "10.875091777128333"
            ]
          },
          "metadata": {
            "tags": []
          },
          "execution_count": 368
        }
      ]
    },
    {
      "metadata": {
        "id": "bceFn8vAL1_2",
        "colab_type": "text"
      },
      "cell_type": "markdown",
      "source": [
        "## 残差プロット"
      ]
    },
    {
      "metadata": {
        "id": "mlgSB8KCGWQv",
        "colab_type": "code",
        "colab": {
          "base_uri": "https://localhost:8080/",
          "height": 361
        },
        "outputId": "ca45adac-6ef9-4904-c45d-5f343ca32c48"
      },
      "cell_type": "code",
      "source": [
        "plt.scatter(predict,predict-t_test,c='lightgreen',marker='s',label='Train data')\n",
        "plt.xlabel('Predicted Values')\n",
        "plt.ylabel('Residuals')\n",
        "plt.legend(loc='upper left')\n",
        "plt.hlines(y=0,xmin=-10,xmax=50,lw=2,color='red')\n",
        "plt.show()"
      ],
      "execution_count": 373,
      "outputs": [
        {
          "output_type": "display_data",
          "data": {
            "image/png": "[encoded data removed]",
            "text/plain": [
              "<Figure size 576x396 with 1 Axes>"
            ]
          },
          "metadata": {
            "tags": []
          }
        }
      ]
    },
    {
      "metadata": {
        "id": "OLWuPljuLed3",
        "colab_type": "text"
      },
      "cell_type": "markdown",
      "source": [
        "# 特徴の可視化"
      ]
    },
    {
      "metadata": {
        "id": "QqqCFUZq2-04",
        "colab_type": "code",
        "colab": {}
      },
      "cell_type": "code",
      "source": [
        "import matplotlib.pyplot as plt"
      ],
      "execution_count": 0,
      "outputs": []
    },
    {
      "metadata": {
        "id": "fZEpRMsGMEe3",
        "colab_type": "text"
      },
      "cell_type": "markdown",
      "source": [
        "## CRIMと価格のグラフ"
      ]
    },
    {
      "metadata": {
        "id": "NpATkJwZMDkw",
        "colab_type": "code",
        "colab": {
          "base_uri": "https://localhost:8080/",
          "height": 361
        },
        "outputId": "ef8031a7-c7c1-4b09-e667-f606a9c8f536"
      },
      "cell_type": "code",
      "source": [
        "plt.scatter(X_train[:,0],t_train,c='lightgreen',marker='s',label='Train data')\n",
        "plt.xlabel('CRIM')\n",
        "plt.ylabel('PRICE')\n",
        "plt.legend(loc='upper left')\n",
        "plt.hlines(y=0,xmin=-10,xmax=50,lw=2,color='red')\n",
        "plt.show()"
      ],
      "execution_count": 375,
      "outputs": [
        {
          "output_type": "display_data",
          "data": {
            "image/png": "[encoded data removed]",
            "text/plain": [
              "<Figure size 576x396 with 1 Axes>"
            ]
          },
          "metadata": {
            "tags": []
          }
        }
      ]
    },
    {
      "metadata": {
        "id": "mEzkqZTgMVAF",
        "colab_type": "text"
      },
      "cell_type": "markdown",
      "source": [
        "## ZNと価格のグラフ"
      ]
    },
    {
      "metadata": {
        "id": "qRRoxUahMjnH",
        "colab_type": "code",
        "colab": {
          "base_uri": "https://localhost:8080/",
          "height": 361
        },
        "outputId": "e6b039b1-4add-47d1-fc79-b6ee7d093452"
      },
      "cell_type": "code",
      "source": [
        "plt.scatter(X_train[:,1],t_train,c='lightgreen',marker='s',label='Train data')\n",
        "plt.xlabel('ZN')\n",
        "plt.ylabel('PRICE')\n",
        "plt.legend(loc='upper left')\n",
        "plt.hlines(y=0,xmin=-10,xmax=50,lw=2,color='red')\n",
        "plt.show()"
      ],
      "execution_count": 376,
      "outputs": [
        {
          "output_type": "display_data",
          "data": {
            "image/png": "[encoded data removed]",
            "text/plain": [
              "<Figure size 576x396 with 1 Axes>"
            ]
          },
          "metadata": {
            "tags": []
          }
        }
      ]
    },
    {
      "metadata": {
        "id": "g7oySnKgMc6N",
        "colab_type": "text"
      },
      "cell_type": "markdown",
      "source": [
        "## INDUSと価格のグラフ"
      ]
    },
    {
      "metadata": {
        "id": "6Ng8flnrMukm",
        "colab_type": "code",
        "colab": {
          "base_uri": "https://localhost:8080/",
          "height": 361
        },
        "outputId": "63013435-a669-408d-801a-1a11cd54bf1d"
      },
      "cell_type": "code",
      "source": [
        "plt.scatter(X_train[:,2],t_train,c='lightgreen',marker='s',label='Train data')\n",
        "plt.xlabel('TAX')\n",
        "plt.ylabel('PRICE')\n",
        "plt.legend(loc='upper left')\n",
        "plt.hlines(y=0,xmin=-10,xmax=50,lw=2,color='red')\n",
        "plt.show()"
      ],
      "execution_count": 377,
      "outputs": [
        {
          "output_type": "display_data",
          "data": {
            "image/png": "[encoded data removed]",
            "text/plain": [
              "<Figure size 576x396 with 1 Axes>"
            ]
          },
          "metadata": {
            "tags": []
          }
        }
      ]
    },
    {
      "metadata": {
        "id": "hpIWAaDcMdJt",
        "colab_type": "text"
      },
      "cell_type": "markdown",
      "source": [
        "## CHASと価格のグラフ"
      ]
    },
    {
      "metadata": {
        "id": "EdLBSMTzMvtR",
        "colab_type": "code",
        "colab": {
          "base_uri": "https://localhost:8080/",
          "height": 361
        },
        "outputId": "9c4cb596-576a-4f98-9988-91a0831a2a93"
      },
      "cell_type": "code",
      "source": [
        "plt.scatter(X_train[:,3],t_train,c='lightgreen',marker='s',label='Train data')\n",
        "plt.xlabel('CHAS')\n",
        "plt.ylabel('PRICE')\n",
        "plt.legend(loc='upper left')\n",
        "plt.hlines(y=0,xmin=-10,xmax=50,lw=2,color='red')\n",
        "plt.show()"
      ],
      "execution_count": 378,
      "outputs": [
        {
          "output_type": "display_data",
          "data": {
            "image/png": "[encoded data removed]",
            "text/plain": [
              "<Figure size 576x396 with 1 Axes>"
            ]
          },
          "metadata": {
            "tags": []
          }
        }
      ]
    },
    {
      "metadata": {
        "id": "w4tokl3yNHrt",
        "colab_type": "text"
      },
      "cell_type": "markdown",
      "source": [
        "## NOXと価格のグラフ"
      ]
    },
    {
      "metadata": {
        "id": "MX7lQMk3NUG4",
        "colab_type": "code",
        "colab": {
          "base_uri": "https://localhost:8080/",
          "height": 361
        },
        "outputId": "6e081db4-f785-4909-f160-03875c2c899e"
      },
      "cell_type": "code",
      "source": [
        "plt.scatter(X_train[:,4],t_train,c='lightgreen',marker='s',label='Train data')\n",
        "plt.xlabel('NOX')\n",
        "plt.ylabel('PRICE')\n",
        "plt.legend(loc='upper left')\n",
        "plt.hlines(y=0,xmin=-10,xmax=50,lw=2,color='red')\n",
        "plt.show()"
      ],
      "execution_count": 379,
      "outputs": [
        {
          "output_type": "display_data",
          "data": {
            "image/png": "[encoded data removed]",
            "text/plain": [
              "<Figure size 576x396 with 1 Axes>"
            ]
          },
          "metadata": {
            "tags": []
          }
        }
      ]
    },
    {
      "metadata": {
        "id": "PJA05R-PNH-L",
        "colab_type": "text"
      },
      "cell_type": "markdown",
      "source": [
        "## RMと価格のグラフ"
      ]
    },
    {
      "metadata": {
        "id": "_kcjpPaCNUzJ",
        "colab_type": "code",
        "colab": {
          "base_uri": "https://localhost:8080/",
          "height": 361
        },
        "outputId": "4b312b67-edff-4af7-bedc-791397b67854"
      },
      "cell_type": "code",
      "source": [
        "plt.scatter(X_train[:,5],t_train,c='lightgreen',marker='s',label='Train data')\n",
        "plt.xlabel('RM')\n",
        "plt.ylabel('PRICE')\n",
        "plt.legend(loc='upper left')\n",
        "plt.hlines(y=0,xmin=-10,xmax=50,lw=2,color='red')\n",
        "plt.show()"
      ],
      "execution_count": 380,
      "outputs": [
        {
          "output_type": "display_data",
          "data": {
            "image/png": "[encoded data removed]",
            "text/plain": [
              "<Figure size 576x396 with 1 Axes>"
            ]
          },
          "metadata": {
            "tags": []
          }
        }
      ]
    },
    {
      "metadata": {
        "id": "6V6JFAN6NIAr",
        "colab_type": "text"
      },
      "cell_type": "markdown",
      "source": [
        "## AGEと価格のグラフ"
      ]
    },
    {
      "metadata": {
        "id": "9RnLevCUNG9Q",
        "colab_type": "code",
        "colab": {
          "base_uri": "https://localhost:8080/",
          "height": 361
        },
        "outputId": "62648e37-4fa4-4978-9502-a6b7b225eaec"
      },
      "cell_type": "code",
      "source": [
        "plt.scatter(X_train[:,6],t_train,c='lightgreen',marker='s',label='Train data')\n",
        "plt.xlabel('AGE')\n",
        "plt.ylabel('PRICE')\n",
        "plt.legend(loc='upper left')\n",
        "plt.hlines(y=0,xmin=-10,xmax=50,lw=2,color='red')\n",
        "plt.show()"
      ],
      "execution_count": 381,
      "outputs": [
        {
          "output_type": "display_data",
          "data": {
            "image/png": "[encoded data removed]",
            "text/plain": [
              "<Figure size 576x396 with 1 Axes>"
            ]
          },
          "metadata": {
            "tags": []
          }
        }
      ]
    },
    {
      "metadata": {
        "id": "kHfdoNpbNwyR",
        "colab_type": "text"
      },
      "cell_type": "markdown",
      "source": [
        "## DISと価格のグラフ"
      ]
    },
    {
      "metadata": {
        "id": "jGZzWJ58OREs",
        "colab_type": "code",
        "colab": {
          "base_uri": "https://localhost:8080/",
          "height": 361
        },
        "outputId": "5681c597-13b6-4f44-dab4-80c3f4d1aa7b"
      },
      "cell_type": "code",
      "source": [
        "plt.scatter(X_train[:,7],t_train,c='lightgreen',marker='s',label='Train data')\n",
        "plt.xlabel('DIS')\n",
        "plt.ylabel('PRICE')\n",
        "plt.legend(loc='upper left')\n",
        "plt.hlines(y=0,xmin=-10,xmax=50,lw=2,color='red')\n",
        "plt.show()"
      ],
      "execution_count": 382,
      "outputs": [
        {
          "output_type": "display_data",
          "data": {
            "image/png": "[encoded data removed]",
            "text/plain": [
              "<Figure size 576x396 with 1 Axes>"
            ]
          },
          "metadata": {
            "tags": []
          }
        }
      ]
    },
    {
      "metadata": {
        "id": "09lnnrrmNw2t",
        "colab_type": "text"
      },
      "cell_type": "markdown",
      "source": [
        "## RADと価格のグラフ"
      ]
    },
    {
      "metadata": {
        "id": "Bi-3VdkEORjs",
        "colab_type": "code",
        "colab": {
          "base_uri": "https://localhost:8080/",
          "height": 361
        },
        "outputId": "d8a680e0-5e97-420a-a6e7-874139366318"
      },
      "cell_type": "code",
      "source": [
        "plt.scatter(X_train[:,8],t_train,c='lightgreen',marker='s',label='Train data')\n",
        "plt.xlabel('RAD')\n",
        "plt.ylabel('PRICE')\n",
        "plt.legend(loc='upper left')\n",
        "plt.hlines(y=0,xmin=-10,xmax=50,lw=2,color='red')\n",
        "plt.show()"
      ],
      "execution_count": 383,
      "outputs": [
        {
          "output_type": "display_data",
          "data": {
            "image/png": "[encoded data removed]",
            "text/plain": [
              "<Figure size 576x396 with 1 Axes>"
            ]
          },
          "metadata": {
            "tags": []
          }
        }
      ]
    },
    {
      "metadata": {
        "id": "W-JtGXqi28N3",
        "colab_type": "text"
      },
      "cell_type": "markdown",
      "source": [
        "## TAXと価格のグラフ"
      ]
    },
    {
      "metadata": {
        "id": "mhPUIqVP3HeN",
        "colab_type": "code",
        "outputId": "03c541c6-faca-453c-f81a-843686cb4c32",
        "colab": {
          "base_uri": "https://localhost:8080/",
          "height": 361
        }
      },
      "cell_type": "code",
      "source": [
        "plt.scatter(X_train[:,9],t_train,c='lightgreen',marker='s',label='Train data')\n",
        "plt.xlabel('TAX')\n",
        "plt.ylabel('PRICE')\n",
        "plt.legend(loc='upper left')\n",
        "plt.hlines(y=0,xmin=-10,xmax=50,lw=2,color='red')\n",
        "plt.show()"
      ],
      "execution_count": 384,
      "outputs": [
        {
          "output_type": "display_data",
          "data": {
            "image/png": "[encoded data removed]",
            "text/plain": [
              "<Figure size 576x396 with 1 Axes>"
            ]
          },
          "metadata": {
            "tags": []
          }
        }
      ]
    },
    {
      "metadata": {
        "id": "kcmxa5maNyPQ",
        "colab_type": "text"
      },
      "cell_type": "markdown",
      "source": [
        "## PTRATIOと価格のグラフ"
      ]
    },
    {
      "metadata": {
        "id": "15O7g6jeOlAk",
        "colab_type": "code",
        "colab": {
          "base_uri": "https://localhost:8080/",
          "height": 361
        },
        "outputId": "dcb26289-69e9-431b-8c2c-aab3a70e6d24"
      },
      "cell_type": "code",
      "source": [
        "plt.scatter(X_train[:,10],t_train,c='lightgreen',marker='s',label='Train data')\n",
        "plt.xlabel('PTRATIO')\n",
        "plt.ylabel('PRICE')\n",
        "plt.legend(loc='upper left')\n",
        "plt.hlines(y=0,xmin=-10,xmax=50,lw=2,color='red')\n",
        "plt.show()"
      ],
      "execution_count": 385,
      "outputs": [
        {
          "output_type": "display_data",
          "data": {
            "image/png": "[encoded data removed]",
            "text/plain": [
              "<Figure size 576x396 with 1 Axes>"
            ]
          },
          "metadata": {
            "tags": []
          }
        }
      ]
    },
    {
      "metadata": {
        "id": "cjTf6FfmNyaJ",
        "colab_type": "text"
      },
      "cell_type": "markdown",
      "source": [
        "## Bと価格のグラフ"
      ]
    },
    {
      "metadata": {
        "colab_type": "code",
        "id": "qo8t3PPhTzxs",
        "colab": {}
      },
      "cell_type": "code",
      "source": [
        ""
      ],
      "execution_count": 0,
      "outputs": []
    },
    {
      "metadata": {
        "id": "bn8TNatnOmsF",
        "colab_type": "code",
        "colab": {
          "base_uri": "https://localhost:8080/",
          "height": 361
        },
        "outputId": "01b67d14-0e85-4c16-ac67-0b7a183f341f"
      },
      "cell_type": "code",
      "source": [
        "plt.scatter(X_train[:,11],t_train,c='lightgreen',marker='s',label='Train data')\n",
        "plt.xlabel('B')\n",
        "plt.ylabel('PRICE')\n",
        "plt.legend(loc='upper left')\n",
        "plt.hlines(y=0,xmin=-10,xmax=50,lw=2,color='red')\n",
        "plt.show()"
      ],
      "execution_count": 386,
      "outputs": [
        {
          "output_type": "display_data",
          "data": {
            "image/png": "[encoded data removed]",
            "text/plain": [
              "<Figure size 576x396 with 1 Axes>"
            ]
          },
          "metadata": {
            "tags": []
          }
        }
      ]
    },
    {
      "metadata": {
        "id": "cwPiazLwLnIc",
        "colab_type": "text"
      },
      "cell_type": "markdown",
      "source": [
        "## LSTATと価格"
      ]
    },
    {
      "metadata": {
        "id": "pT45tZUv4XfU",
        "colab_type": "code",
        "colab": {
          "base_uri": "https://localhost:8080/",
          "height": 361
        },
        "outputId": "1a1e79b9-1c61-4507-9f09-ea2734465a05"
      },
      "cell_type": "code",
      "source": [
        "plt.scatter(X_train[:,12],t_train,c='lightgreen',marker='s',label='Train data')\n",
        "plt.xlabel('LSTAT')\n",
        "plt.ylabel('PRICE')\n",
        "plt.legend(loc='upper left')\n",
        "plt.hlines(y=0,xmin=-10,xmax=50,lw=2,color='red')\n",
        "plt.show()"
      ],
      "execution_count": 387,
      "outputs": [
        {
          "output_type": "display_data",
          "data": {
            "image/png": "[encoded data removed]",
            "text/plain": [
              "<Figure size 576x396 with 1 Axes>"
            ]
          },
          "metadata": {
            "tags": []
          }
        }
      ]
    }
  ]
}