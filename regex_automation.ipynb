{
 "cells": [
  {
   "cell_type": "code",
   "execution_count": 21,
   "metadata": {},
   "outputs": [],
   "source": [
    "import pyperclip,re"
   ]
  },
  {
   "cell_type": "code",
   "execution_count": 22,
   "metadata": {},
   "outputs": [],
   "source": [
    "#Regex of phone_number\n",
    "phone_regex = re.compile(r'''(\n",
    "                                (\\d{3}|\\(\\d{3}\\))?\n",
    "                                (\\s|-|\\.)?\n",
    "                                (\\d{3})\n",
    "                                (\\s|-|\\.)\n",
    "                                (\\d{4})\n",
    "                                (\\s*(ext|x|ext.)\\s*(\\d{2,5}))?\n",
    "                                )''',re.VERBOSE)"
   ]
  },
  {
   "cell_type": "code",
   "execution_count": 23,
   "metadata": {},
   "outputs": [],
   "source": [
    "#Regex of e-mail\n",
    "email_regex = re.compile(r'''(\n",
    "                                [a-zA-z0-9._%+-]+\n",
    "                                @\n",
    "                                [a-zA-Z0-9.-]+\n",
    "                                (\\.[a-zA-Z]{2,4})\n",
    "                                )''',re.VERBOSE)"
   ]
  },
  {
   "cell_type": "code",
   "execution_count": 24,
   "metadata": {},
   "outputs": [],
   "source": [
    "#Search text in clip-board\n",
    "text = str(pyperclip.paste())\n",
    "matches = []\n",
    "for groups in phone_regex.findall(text):\n",
    "    phone_num = '-'.join([groups[1],groups[3],groups[5]])\n",
    "    if(groups[8]) != '':\n",
    "        phone_num += ' x' + groups[8]\n",
    "    matches.append(phone_num)\n",
    "for groups in email_regex.findall(text):\n",
    "    matches.append(groups[0])"
   ]
  },
  {
   "cell_type": "code",
   "execution_count": 25,
   "metadata": {},
   "outputs": [
    {
     "name": "stdout",
     "output_type": "stream",
     "text": [
      "No phone number and e-mail\n"
     ]
    }
   ],
   "source": [
    "if len(matches) > 0:\n",
    "    pyperclip.copy('\\n'.join(matches))\n",
    "    print(\"Copied\")\n",
    "    print('\\n'.join(matches))\n",
    "else:\n",
    "    print('No phone number and e-mail')"
   ]
  },
  {
   "cell_type": "code",
   "execution_count": null,
   "metadata": {},
   "outputs": [],
   "source": []
  },
  {
   "cell_type": "code",
   "execution_count": null,
   "metadata": {},
   "outputs": [],
   "source": []
  }
 ],
 "metadata": {
  "kernelspec": {
   "display_name": "Python 3",
   "language": "python",
   "name": "python3"
  },
  "language_info": {
   "codemirror_mode": {
    "name": "ipython",
    "version": 3
   },
   "file_extension": ".py",
   "mimetype": "text/x-python",
   "name": "python",
   "nbconvert_exporter": "python",
   "pygments_lexer": "ipython3",
   "version": "3.6.4"
  }
 },
 "nbformat": 4,
 "nbformat_minor": 2
}
