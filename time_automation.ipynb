{
 "cells": [
  {
   "cell_type": "code",
   "execution_count": 27,
   "metadata": {},
   "outputs": [],
   "source": [
    "import time"
   ]
  },
  {
   "cell_type": "code",
   "execution_count": 28,
   "metadata": {},
   "outputs": [],
   "source": [
    "def calc_prod():\n",
    "    product = 1\n",
    "    for i in range(1,1000):\n",
    "        product = product*i*i\n",
    "    return product\n",
    "\n",
    "def calc_prod2():\n",
    "    product = 1\n",
    "    for i in range(1,1000):\n",
    "        product = product*i*i\n",
    "    return product"
   ]
  },
  {
   "cell_type": "code",
   "execution_count": 29,
   "metadata": {},
   "outputs": [
    {
     "name": "stdout",
     "output_type": "stream",
     "text": [
      "Execution Time is {} 0.0009763240814208984\n"
     ]
    }
   ],
   "source": [
    "start_time = time.time()\n",
    "prod=calc_prod()\n",
    "end_time = time.time()\n",
    "print('Execution Time is {}',format(end_time - start_time))"
   ]
  },
  {
   "cell_type": "code",
   "execution_count": 30,
   "metadata": {},
   "outputs": [
    {
     "name": "stdout",
     "output_type": "stream",
     "text": [
      "Execution Time is {} 0.002928018569946289\n"
     ]
    }
   ],
   "source": [
    "start_time = time.time()\n",
    "prod=calc_prod2()\n",
    "end_time = time.time()\n",
    "print('Execution Time is {}',format(end_time - start_time))"
   ]
  },
  {
   "cell_type": "code",
   "execution_count": null,
   "metadata": {},
   "outputs": [],
   "source": []
  }
 ],
 "metadata": {
  "kernelspec": {
   "display_name": "Python 3",
   "language": "python",
   "name": "python3"
  },
  "language_info": {
   "codemirror_mode": {
    "name": "ipython",
    "version": 3
   },
   "file_extension": ".py",
   "mimetype": "text/x-python",
   "name": "python",
   "nbconvert_exporter": "python",
   "pygments_lexer": "ipython3",
   "version": "3.6.4"
  }
 },
 "nbformat": 4,
 "nbformat_minor": 2
}
